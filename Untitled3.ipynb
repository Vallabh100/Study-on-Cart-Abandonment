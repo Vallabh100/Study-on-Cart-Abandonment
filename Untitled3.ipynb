{
  "nbformat": 4,
  "nbformat_minor": 0,
  "metadata": {
    "colab": {
      "provenance": []
    },
    "kernelspec": {
      "name": "python3",
      "display_name": "Python 3"
    },
    "language_info": {
      "name": "python"
    }
  },
  "cells": [
    {
      "cell_type": "markdown",
      "source": [
        "# **STUDY ON CART ABANDONMENT**\n",
        "\n",
        "**INTRODUCTION**\n",
        "\n",
        "Shopping cart abandonment refers to the phenomenon where customers add items to an online shopping cart, but then leave the site without completing the purchase. This is a common issue faced by e-commerce businesses, as it can result in a significant loss of potential revenue. Studies have shown that the average shopping cart abandonment rate is around 69%, which means that nearly 7 out of 10 customers do not complete their purchases.\n",
        "\n",
        "**ABOUT DATASET**\n",
        "\n",
        "Dataset taken here from kaggle consists of **4284 rows and 13 columns**.\n",
        "\n",
        "Attributes containing in the dataset-\n",
        "\n",
        "**ID**: The session id of the customer.\n",
        "\n",
        "**Is_Product_Details_viewed**: Whether the customer is viewing the product details or not.\n",
        "\n",
        "**Session_Activity_Count**: How many times a customer is going to the different pages.\n",
        "\n",
        "**No_Items_Added_InCart**: Number of items in cart.\n",
        "\n",
        "**No_Items_Removed_FromCart**: Number of items removed from the cart.\n",
        "\n",
        "**No_Cart_Viewed**: How many times the customer is going to the cart page.\n",
        "\n",
        "**No_Checkout_Confirmed**: How many times the checkout has been confirmed successfully by the customer.\n",
        "\n",
        "**No_Checkout_Initiated**: How many times the checkout(successful as well as unsuccess) is being done by the user.\n",
        "\n",
        "**No_Cart_Items_Viewed**: How many times a user is viewing the product from cart.\n",
        "\n",
        "**No_Customer_Login**: Number of times the customer had did log in.\n",
        "\n",
        "**No_Page_Viewed**: Number of pages viewed by the customer. \n",
        "\n",
        "**Customer_Segment_Type**: The customer falls under which category,i.e, 0 for Target Customer, 1 for Loyal Customer, and 2 for Untargeted customer.\n",
        "\n",
        "**Cart_Abandoned**: Whether the customer is doing cart abandonment or not. This is the target variable that we need to predict."
      ],
      "metadata": {
        "id": "w-FP92nRCaob"
      }
    },
    {
      "cell_type": "markdown",
      "source": [
        "**IMPORTING LIBRARIES**"
      ],
      "metadata": {
        "id": "vCF4nTrGJL-D"
      }
    },
    {
      "cell_type": "code",
      "execution_count": 1,
      "metadata": {
        "id": "0Xn8b1HfB5MT"
      },
      "outputs": [],
      "source": [
        "import pickle as pkl\n",
        "import pandas as pd\n",
        "import numpy as np\n",
        "import seaborn as sns\n",
        "from imblearn.over_sampling import SMOTE\n",
        "from sklearn.model_selection import train_test_split\n",
        "from sklearn.preprocessing import StandardScaler\n",
        "from sklearn.impute import SimpleImputer\n",
        "from sklearn.metrics import confusion_matrix,accuracy_score,cohen_kappa_score\n",
        "from sklearn.ensemble import RandomForestClassifier\n",
        "from sklearn.preprocessing import MinMaxScaler\n",
        "from scipy.special import boxcox1p\n",
        "from sklearn.feature_selection import RFE\n",
        "from sklearn.linear_model import LogisticRegression\n",
        "import matplotlib.pyplot as plt\n",
        "%matplotlib inline"
      ]
    },
    {
      "cell_type": "markdown",
      "source": [
        "**UNDERSTANDING THE DATA**"
      ],
      "metadata": {
        "id": "Y64mO6X_JfN4"
      }
    },
    {
      "cell_type": "code",
      "source": [
        "dataset = pd.read_csv('/content/cart_abandonment_data.csv')\n",
        "dataset.head()"
      ],
      "metadata": {
        "colab": {
          "base_uri": "https://localhost:8080/",
          "height": 270
        },
        "id": "8ykVYD8OJlZS",
        "outputId": "7909ea20-4cf9-418e-ee31-830ab2c2f576"
      },
      "execution_count": 2,
      "outputs": [
        {
          "output_type": "execute_result",
          "data": {
            "text/plain": [
              "             ID Is_Product_Details_viewed  Session_Activity_Count  \\\n",
              "0  Session_ID_0                       Yes                       4   \n",
              "1  Session_ID_1                        No                      38   \n",
              "2  Session_ID_2                        No                       8   \n",
              "3  Session_ID_3                        No                       6   \n",
              "4  Session_ID_4                       Yes                      31   \n",
              "\n",
              "   No_Items_Added_InCart  No_Items_Removed_FromCart  No_Cart_Viewed  \\\n",
              "0                    1.0                          0             0.0   \n",
              "1                    0.0                          0             2.0   \n",
              "2                    5.0                          0             0.0   \n",
              "3                    0.0                          0             2.0   \n",
              "4                   14.0                         12             1.0   \n",
              "\n",
              "   No_Checkout_Confirmed  No_Checkout_Initiated   No_Cart_Items_Viewed  \\\n",
              "0                      0                       0                     1   \n",
              "1                      0                       0                     2   \n",
              "2                      1                       1                     1   \n",
              "3                      0                       0                     4   \n",
              "4                      0                       0                     4   \n",
              "\n",
              "   No_Customer_Login  No_Page_Viewed  Customer_Segment_Type  Cart_Abandoned  \n",
              "0                  0               0                      0               1  \n",
              "1                  0               2                      0               1  \n",
              "2                  0               0                      1               0  \n",
              "3                  0               0                      0               1  \n",
              "4                  0               0                      2               1  "
            ],
            "text/html": [
              "\n",
              "  <div id=\"df-629f8d00-0413-43fd-a7a3-f75ab7578c86\">\n",
              "    <div class=\"colab-df-container\">\n",
              "      <div>\n",
              "<style scoped>\n",
              "    .dataframe tbody tr th:only-of-type {\n",
              "        vertical-align: middle;\n",
              "    }\n",
              "\n",
              "    .dataframe tbody tr th {\n",
              "        vertical-align: top;\n",
              "    }\n",
              "\n",
              "    .dataframe thead th {\n",
              "        text-align: right;\n",
              "    }\n",
              "</style>\n",
              "<table border=\"1\" class=\"dataframe\">\n",
              "  <thead>\n",
              "    <tr style=\"text-align: right;\">\n",
              "      <th></th>\n",
              "      <th>ID</th>\n",
              "      <th>Is_Product_Details_viewed</th>\n",
              "      <th>Session_Activity_Count</th>\n",
              "      <th>No_Items_Added_InCart</th>\n",
              "      <th>No_Items_Removed_FromCart</th>\n",
              "      <th>No_Cart_Viewed</th>\n",
              "      <th>No_Checkout_Confirmed</th>\n",
              "      <th>No_Checkout_Initiated</th>\n",
              "      <th>No_Cart_Items_Viewed</th>\n",
              "      <th>No_Customer_Login</th>\n",
              "      <th>No_Page_Viewed</th>\n",
              "      <th>Customer_Segment_Type</th>\n",
              "      <th>Cart_Abandoned</th>\n",
              "    </tr>\n",
              "  </thead>\n",
              "  <tbody>\n",
              "    <tr>\n",
              "      <th>0</th>\n",
              "      <td>Session_ID_0</td>\n",
              "      <td>Yes</td>\n",
              "      <td>4</td>\n",
              "      <td>1.0</td>\n",
              "      <td>0</td>\n",
              "      <td>0.0</td>\n",
              "      <td>0</td>\n",
              "      <td>0</td>\n",
              "      <td>1</td>\n",
              "      <td>0</td>\n",
              "      <td>0</td>\n",
              "      <td>0</td>\n",
              "      <td>1</td>\n",
              "    </tr>\n",
              "    <tr>\n",
              "      <th>1</th>\n",
              "      <td>Session_ID_1</td>\n",
              "      <td>No</td>\n",
              "      <td>38</td>\n",
              "      <td>0.0</td>\n",
              "      <td>0</td>\n",
              "      <td>2.0</td>\n",
              "      <td>0</td>\n",
              "      <td>0</td>\n",
              "      <td>2</td>\n",
              "      <td>0</td>\n",
              "      <td>2</td>\n",
              "      <td>0</td>\n",
              "      <td>1</td>\n",
              "    </tr>\n",
              "    <tr>\n",
              "      <th>2</th>\n",
              "      <td>Session_ID_2</td>\n",
              "      <td>No</td>\n",
              "      <td>8</td>\n",
              "      <td>5.0</td>\n",
              "      <td>0</td>\n",
              "      <td>0.0</td>\n",
              "      <td>1</td>\n",
              "      <td>1</td>\n",
              "      <td>1</td>\n",
              "      <td>0</td>\n",
              "      <td>0</td>\n",
              "      <td>1</td>\n",
              "      <td>0</td>\n",
              "    </tr>\n",
              "    <tr>\n",
              "      <th>3</th>\n",
              "      <td>Session_ID_3</td>\n",
              "      <td>No</td>\n",
              "      <td>6</td>\n",
              "      <td>0.0</td>\n",
              "      <td>0</td>\n",
              "      <td>2.0</td>\n",
              "      <td>0</td>\n",
              "      <td>0</td>\n",
              "      <td>4</td>\n",
              "      <td>0</td>\n",
              "      <td>0</td>\n",
              "      <td>0</td>\n",
              "      <td>1</td>\n",
              "    </tr>\n",
              "    <tr>\n",
              "      <th>4</th>\n",
              "      <td>Session_ID_4</td>\n",
              "      <td>Yes</td>\n",
              "      <td>31</td>\n",
              "      <td>14.0</td>\n",
              "      <td>12</td>\n",
              "      <td>1.0</td>\n",
              "      <td>0</td>\n",
              "      <td>0</td>\n",
              "      <td>4</td>\n",
              "      <td>0</td>\n",
              "      <td>0</td>\n",
              "      <td>2</td>\n",
              "      <td>1</td>\n",
              "    </tr>\n",
              "  </tbody>\n",
              "</table>\n",
              "</div>\n",
              "      <button class=\"colab-df-convert\" onclick=\"convertToInteractive('df-629f8d00-0413-43fd-a7a3-f75ab7578c86')\"\n",
              "              title=\"Convert this dataframe to an interactive table.\"\n",
              "              style=\"display:none;\">\n",
              "        \n",
              "  <svg xmlns=\"http://www.w3.org/2000/svg\" height=\"24px\"viewBox=\"0 0 24 24\"\n",
              "       width=\"24px\">\n",
              "    <path d=\"M0 0h24v24H0V0z\" fill=\"none\"/>\n",
              "    <path d=\"M18.56 5.44l.94 2.06.94-2.06 2.06-.94-2.06-.94-.94-2.06-.94 2.06-2.06.94zm-11 1L8.5 8.5l.94-2.06 2.06-.94-2.06-.94L8.5 2.5l-.94 2.06-2.06.94zm10 10l.94 2.06.94-2.06 2.06-.94-2.06-.94-.94-2.06-.94 2.06-2.06.94z\"/><path d=\"M17.41 7.96l-1.37-1.37c-.4-.4-.92-.59-1.43-.59-.52 0-1.04.2-1.43.59L10.3 9.45l-7.72 7.72c-.78.78-.78 2.05 0 2.83L4 21.41c.39.39.9.59 1.41.59.51 0 1.02-.2 1.41-.59l7.78-7.78 2.81-2.81c.8-.78.8-2.07 0-2.86zM5.41 20L4 18.59l7.72-7.72 1.47 1.35L5.41 20z\"/>\n",
              "  </svg>\n",
              "      </button>\n",
              "      \n",
              "  <style>\n",
              "    .colab-df-container {\n",
              "      display:flex;\n",
              "      flex-wrap:wrap;\n",
              "      gap: 12px;\n",
              "    }\n",
              "\n",
              "    .colab-df-convert {\n",
              "      background-color: #E8F0FE;\n",
              "      border: none;\n",
              "      border-radius: 50%;\n",
              "      cursor: pointer;\n",
              "      display: none;\n",
              "      fill: #1967D2;\n",
              "      height: 32px;\n",
              "      padding: 0 0 0 0;\n",
              "      width: 32px;\n",
              "    }\n",
              "\n",
              "    .colab-df-convert:hover {\n",
              "      background-color: #E2EBFA;\n",
              "      box-shadow: 0px 1px 2px rgba(60, 64, 67, 0.3), 0px 1px 3px 1px rgba(60, 64, 67, 0.15);\n",
              "      fill: #174EA6;\n",
              "    }\n",
              "\n",
              "    [theme=dark] .colab-df-convert {\n",
              "      background-color: #3B4455;\n",
              "      fill: #D2E3FC;\n",
              "    }\n",
              "\n",
              "    [theme=dark] .colab-df-convert:hover {\n",
              "      background-color: #434B5C;\n",
              "      box-shadow: 0px 1px 3px 1px rgba(0, 0, 0, 0.15);\n",
              "      filter: drop-shadow(0px 1px 2px rgba(0, 0, 0, 0.3));\n",
              "      fill: #FFFFFF;\n",
              "    }\n",
              "  </style>\n",
              "\n",
              "      <script>\n",
              "        const buttonEl =\n",
              "          document.querySelector('#df-629f8d00-0413-43fd-a7a3-f75ab7578c86 button.colab-df-convert');\n",
              "        buttonEl.style.display =\n",
              "          google.colab.kernel.accessAllowed ? 'block' : 'none';\n",
              "\n",
              "        async function convertToInteractive(key) {\n",
              "          const element = document.querySelector('#df-629f8d00-0413-43fd-a7a3-f75ab7578c86');\n",
              "          const dataTable =\n",
              "            await google.colab.kernel.invokeFunction('convertToInteractive',\n",
              "                                                     [key], {});\n",
              "          if (!dataTable) return;\n",
              "\n",
              "          const docLinkHtml = 'Like what you see? Visit the ' +\n",
              "            '<a target=\"_blank\" href=https://colab.research.google.com/notebooks/data_table.ipynb>data table notebook</a>'\n",
              "            + ' to learn more about interactive tables.';\n",
              "          element.innerHTML = '';\n",
              "          dataTable['output_type'] = 'display_data';\n",
              "          await google.colab.output.renderOutput(dataTable, element);\n",
              "          const docLink = document.createElement('div');\n",
              "          docLink.innerHTML = docLinkHtml;\n",
              "          element.appendChild(docLink);\n",
              "        }\n",
              "      </script>\n",
              "    </div>\n",
              "  </div>\n",
              "  "
            ]
          },
          "metadata": {},
          "execution_count": 2
        }
      ]
    },
    {
      "cell_type": "code",
      "source": [
        "dataset.shape"
      ],
      "metadata": {
        "colab": {
          "base_uri": "https://localhost:8080/"
        },
        "id": "kkZUFrNIh-g5",
        "outputId": "11e6bef4-a4d1-4fd2-8c5f-9a1d6f44cbe7"
      },
      "execution_count": 3,
      "outputs": [
        {
          "output_type": "execute_result",
          "data": {
            "text/plain": [
              "(4284, 13)"
            ]
          },
          "metadata": {},
          "execution_count": 3
        }
      ]
    },
    {
      "cell_type": "code",
      "source": [
        "dataset.dtypes"
      ],
      "metadata": {
        "colab": {
          "base_uri": "https://localhost:8080/"
        },
        "id": "klCr7hawiE86",
        "outputId": "36e1b8fe-3f03-4b0b-815d-a938568cfe82"
      },
      "execution_count": 4,
      "outputs": [
        {
          "output_type": "execute_result",
          "data": {
            "text/plain": [
              "ID                            object\n",
              "Is_Product_Details_viewed     object\n",
              "Session_Activity_Count         int64\n",
              "No_Items_Added_InCart        float64\n",
              "No_Items_Removed_FromCart      int64\n",
              "No_Cart_Viewed               float64\n",
              "No_Checkout_Confirmed          int64\n",
              "No_Checkout_Initiated          int64\n",
              "No_Cart_Items_Viewed           int64\n",
              "No_Customer_Login              int64\n",
              "No_Page_Viewed                 int64\n",
              "Customer_Segment_Type          int64\n",
              "Cart_Abandoned                 int64\n",
              "dtype: object"
            ]
          },
          "metadata": {},
          "execution_count": 4
        }
      ]
    },
    {
      "cell_type": "code",
      "source": [
        "dataset.info()"
      ],
      "metadata": {
        "colab": {
          "base_uri": "https://localhost:8080/"
        },
        "id": "jd2pK7P7iIIN",
        "outputId": "e03e7d60-a171-4888-dcf7-8405e238c1c1"
      },
      "execution_count": 5,
      "outputs": [
        {
          "output_type": "stream",
          "name": "stdout",
          "text": [
            "<class 'pandas.core.frame.DataFrame'>\n",
            "RangeIndex: 4284 entries, 0 to 4283\n",
            "Data columns (total 13 columns):\n",
            " #   Column                     Non-Null Count  Dtype  \n",
            "---  ------                     --------------  -----  \n",
            " 0   ID                         4284 non-null   object \n",
            " 1   Is_Product_Details_viewed  4284 non-null   object \n",
            " 2   Session_Activity_Count     4284 non-null   int64  \n",
            " 3   No_Items_Added_InCart      4275 non-null   float64\n",
            " 4   No_Items_Removed_FromCart  4284 non-null   int64  \n",
            " 5   No_Cart_Viewed             4275 non-null   float64\n",
            " 6   No_Checkout_Confirmed      4284 non-null   int64  \n",
            " 7   No_Checkout_Initiated      4284 non-null   int64  \n",
            " 8   No_Cart_Items_Viewed       4284 non-null   int64  \n",
            " 9   No_Customer_Login          4284 non-null   int64  \n",
            " 10  No_Page_Viewed             4284 non-null   int64  \n",
            " 11  Customer_Segment_Type      4284 non-null   int64  \n",
            " 12  Cart_Abandoned             4284 non-null   int64  \n",
            "dtypes: float64(2), int64(9), object(2)\n",
            "memory usage: 435.2+ KB\n"
          ]
        }
      ]
    },
    {
      "cell_type": "code",
      "source": [
        "dataset.describe()"
      ],
      "metadata": {
        "colab": {
          "base_uri": "https://localhost:8080/",
          "height": 364
        },
        "id": "wYSx4mbiiLqX",
        "outputId": "2b4f15c5-7297-4f2c-aef3-8fd568a15701"
      },
      "execution_count": 6,
      "outputs": [
        {
          "output_type": "execute_result",
          "data": {
            "text/plain": [
              "       Session_Activity_Count  No_Items_Added_InCart  \\\n",
              "count             4284.000000            4275.000000   \n",
              "mean                13.878151               3.488421   \n",
              "std                 15.934084               6.789401   \n",
              "min                  0.000000               0.000000   \n",
              "25%                  6.000000               1.000000   \n",
              "50%                 10.000000               2.000000   \n",
              "75%                 17.000000               5.000000   \n",
              "max                436.000000             225.000000   \n",
              "\n",
              "       No_Items_Removed_FromCart  No_Cart_Viewed  No_Checkout_Confirmed  \\\n",
              "count                4284.000000     4275.000000            4284.000000   \n",
              "mean                    0.867180        1.444211               0.187208   \n",
              "std                     3.070022        2.082496               0.517691   \n",
              "min                     0.000000        0.000000               0.000000   \n",
              "25%                     0.000000        0.000000               0.000000   \n",
              "50%                     0.000000        1.000000               0.000000   \n",
              "75%                     0.000000        2.000000               0.000000   \n",
              "max                    50.000000       34.000000              11.000000   \n",
              "\n",
              "       No_Checkout_Initiated   No_Cart_Items_Viewed  No_Customer_Login  \\\n",
              "count             4284.000000           4284.000000        4284.000000   \n",
              "mean                 0.980159              2.295985           0.169234   \n",
              "std                  1.140525              6.052666           0.400299   \n",
              "min                  0.000000              0.000000           0.000000   \n",
              "25%                  0.000000              1.000000           0.000000   \n",
              "50%                  1.000000              1.000000           0.000000   \n",
              "75%                  1.000000              2.000000           0.000000   \n",
              "max                 14.000000            256.000000           3.000000   \n",
              "\n",
              "       No_Page_Viewed  Customer_Segment_Type  Cart_Abandoned  \n",
              "count     4284.000000            4284.000000     4284.000000  \n",
              "mean         2.348506               0.563259        0.856209  \n",
              "std          2.868862               0.703856        0.350918  \n",
              "min          0.000000               0.000000        0.000000  \n",
              "25%          1.000000               0.000000        1.000000  \n",
              "50%          2.000000               0.000000        1.000000  \n",
              "75%          3.000000               1.000000        1.000000  \n",
              "max         35.000000               2.000000        1.000000  "
            ],
            "text/html": [
              "\n",
              "  <div id=\"df-5f535651-9218-47d5-9105-bc7454f3ffff\">\n",
              "    <div class=\"colab-df-container\">\n",
              "      <div>\n",
              "<style scoped>\n",
              "    .dataframe tbody tr th:only-of-type {\n",
              "        vertical-align: middle;\n",
              "    }\n",
              "\n",
              "    .dataframe tbody tr th {\n",
              "        vertical-align: top;\n",
              "    }\n",
              "\n",
              "    .dataframe thead th {\n",
              "        text-align: right;\n",
              "    }\n",
              "</style>\n",
              "<table border=\"1\" class=\"dataframe\">\n",
              "  <thead>\n",
              "    <tr style=\"text-align: right;\">\n",
              "      <th></th>\n",
              "      <th>Session_Activity_Count</th>\n",
              "      <th>No_Items_Added_InCart</th>\n",
              "      <th>No_Items_Removed_FromCart</th>\n",
              "      <th>No_Cart_Viewed</th>\n",
              "      <th>No_Checkout_Confirmed</th>\n",
              "      <th>No_Checkout_Initiated</th>\n",
              "      <th>No_Cart_Items_Viewed</th>\n",
              "      <th>No_Customer_Login</th>\n",
              "      <th>No_Page_Viewed</th>\n",
              "      <th>Customer_Segment_Type</th>\n",
              "      <th>Cart_Abandoned</th>\n",
              "    </tr>\n",
              "  </thead>\n",
              "  <tbody>\n",
              "    <tr>\n",
              "      <th>count</th>\n",
              "      <td>4284.000000</td>\n",
              "      <td>4275.000000</td>\n",
              "      <td>4284.000000</td>\n",
              "      <td>4275.000000</td>\n",
              "      <td>4284.000000</td>\n",
              "      <td>4284.000000</td>\n",
              "      <td>4284.000000</td>\n",
              "      <td>4284.000000</td>\n",
              "      <td>4284.000000</td>\n",
              "      <td>4284.000000</td>\n",
              "      <td>4284.000000</td>\n",
              "    </tr>\n",
              "    <tr>\n",
              "      <th>mean</th>\n",
              "      <td>13.878151</td>\n",
              "      <td>3.488421</td>\n",
              "      <td>0.867180</td>\n",
              "      <td>1.444211</td>\n",
              "      <td>0.187208</td>\n",
              "      <td>0.980159</td>\n",
              "      <td>2.295985</td>\n",
              "      <td>0.169234</td>\n",
              "      <td>2.348506</td>\n",
              "      <td>0.563259</td>\n",
              "      <td>0.856209</td>\n",
              "    </tr>\n",
              "    <tr>\n",
              "      <th>std</th>\n",
              "      <td>15.934084</td>\n",
              "      <td>6.789401</td>\n",
              "      <td>3.070022</td>\n",
              "      <td>2.082496</td>\n",
              "      <td>0.517691</td>\n",
              "      <td>1.140525</td>\n",
              "      <td>6.052666</td>\n",
              "      <td>0.400299</td>\n",
              "      <td>2.868862</td>\n",
              "      <td>0.703856</td>\n",
              "      <td>0.350918</td>\n",
              "    </tr>\n",
              "    <tr>\n",
              "      <th>min</th>\n",
              "      <td>0.000000</td>\n",
              "      <td>0.000000</td>\n",
              "      <td>0.000000</td>\n",
              "      <td>0.000000</td>\n",
              "      <td>0.000000</td>\n",
              "      <td>0.000000</td>\n",
              "      <td>0.000000</td>\n",
              "      <td>0.000000</td>\n",
              "      <td>0.000000</td>\n",
              "      <td>0.000000</td>\n",
              "      <td>0.000000</td>\n",
              "    </tr>\n",
              "    <tr>\n",
              "      <th>25%</th>\n",
              "      <td>6.000000</td>\n",
              "      <td>1.000000</td>\n",
              "      <td>0.000000</td>\n",
              "      <td>0.000000</td>\n",
              "      <td>0.000000</td>\n",
              "      <td>0.000000</td>\n",
              "      <td>1.000000</td>\n",
              "      <td>0.000000</td>\n",
              "      <td>1.000000</td>\n",
              "      <td>0.000000</td>\n",
              "      <td>1.000000</td>\n",
              "    </tr>\n",
              "    <tr>\n",
              "      <th>50%</th>\n",
              "      <td>10.000000</td>\n",
              "      <td>2.000000</td>\n",
              "      <td>0.000000</td>\n",
              "      <td>1.000000</td>\n",
              "      <td>0.000000</td>\n",
              "      <td>1.000000</td>\n",
              "      <td>1.000000</td>\n",
              "      <td>0.000000</td>\n",
              "      <td>2.000000</td>\n",
              "      <td>0.000000</td>\n",
              "      <td>1.000000</td>\n",
              "    </tr>\n",
              "    <tr>\n",
              "      <th>75%</th>\n",
              "      <td>17.000000</td>\n",
              "      <td>5.000000</td>\n",
              "      <td>0.000000</td>\n",
              "      <td>2.000000</td>\n",
              "      <td>0.000000</td>\n",
              "      <td>1.000000</td>\n",
              "      <td>2.000000</td>\n",
              "      <td>0.000000</td>\n",
              "      <td>3.000000</td>\n",
              "      <td>1.000000</td>\n",
              "      <td>1.000000</td>\n",
              "    </tr>\n",
              "    <tr>\n",
              "      <th>max</th>\n",
              "      <td>436.000000</td>\n",
              "      <td>225.000000</td>\n",
              "      <td>50.000000</td>\n",
              "      <td>34.000000</td>\n",
              "      <td>11.000000</td>\n",
              "      <td>14.000000</td>\n",
              "      <td>256.000000</td>\n",
              "      <td>3.000000</td>\n",
              "      <td>35.000000</td>\n",
              "      <td>2.000000</td>\n",
              "      <td>1.000000</td>\n",
              "    </tr>\n",
              "  </tbody>\n",
              "</table>\n",
              "</div>\n",
              "      <button class=\"colab-df-convert\" onclick=\"convertToInteractive('df-5f535651-9218-47d5-9105-bc7454f3ffff')\"\n",
              "              title=\"Convert this dataframe to an interactive table.\"\n",
              "              style=\"display:none;\">\n",
              "        \n",
              "  <svg xmlns=\"http://www.w3.org/2000/svg\" height=\"24px\"viewBox=\"0 0 24 24\"\n",
              "       width=\"24px\">\n",
              "    <path d=\"M0 0h24v24H0V0z\" fill=\"none\"/>\n",
              "    <path d=\"M18.56 5.44l.94 2.06.94-2.06 2.06-.94-2.06-.94-.94-2.06-.94 2.06-2.06.94zm-11 1L8.5 8.5l.94-2.06 2.06-.94-2.06-.94L8.5 2.5l-.94 2.06-2.06.94zm10 10l.94 2.06.94-2.06 2.06-.94-2.06-.94-.94-2.06-.94 2.06-2.06.94z\"/><path d=\"M17.41 7.96l-1.37-1.37c-.4-.4-.92-.59-1.43-.59-.52 0-1.04.2-1.43.59L10.3 9.45l-7.72 7.72c-.78.78-.78 2.05 0 2.83L4 21.41c.39.39.9.59 1.41.59.51 0 1.02-.2 1.41-.59l7.78-7.78 2.81-2.81c.8-.78.8-2.07 0-2.86zM5.41 20L4 18.59l7.72-7.72 1.47 1.35L5.41 20z\"/>\n",
              "  </svg>\n",
              "      </button>\n",
              "      \n",
              "  <style>\n",
              "    .colab-df-container {\n",
              "      display:flex;\n",
              "      flex-wrap:wrap;\n",
              "      gap: 12px;\n",
              "    }\n",
              "\n",
              "    .colab-df-convert {\n",
              "      background-color: #E8F0FE;\n",
              "      border: none;\n",
              "      border-radius: 50%;\n",
              "      cursor: pointer;\n",
              "      display: none;\n",
              "      fill: #1967D2;\n",
              "      height: 32px;\n",
              "      padding: 0 0 0 0;\n",
              "      width: 32px;\n",
              "    }\n",
              "\n",
              "    .colab-df-convert:hover {\n",
              "      background-color: #E2EBFA;\n",
              "      box-shadow: 0px 1px 2px rgba(60, 64, 67, 0.3), 0px 1px 3px 1px rgba(60, 64, 67, 0.15);\n",
              "      fill: #174EA6;\n",
              "    }\n",
              "\n",
              "    [theme=dark] .colab-df-convert {\n",
              "      background-color: #3B4455;\n",
              "      fill: #D2E3FC;\n",
              "    }\n",
              "\n",
              "    [theme=dark] .colab-df-convert:hover {\n",
              "      background-color: #434B5C;\n",
              "      box-shadow: 0px 1px 3px 1px rgba(0, 0, 0, 0.15);\n",
              "      filter: drop-shadow(0px 1px 2px rgba(0, 0, 0, 0.3));\n",
              "      fill: #FFFFFF;\n",
              "    }\n",
              "  </style>\n",
              "\n",
              "      <script>\n",
              "        const buttonEl =\n",
              "          document.querySelector('#df-5f535651-9218-47d5-9105-bc7454f3ffff button.colab-df-convert');\n",
              "        buttonEl.style.display =\n",
              "          google.colab.kernel.accessAllowed ? 'block' : 'none';\n",
              "\n",
              "        async function convertToInteractive(key) {\n",
              "          const element = document.querySelector('#df-5f535651-9218-47d5-9105-bc7454f3ffff');\n",
              "          const dataTable =\n",
              "            await google.colab.kernel.invokeFunction('convertToInteractive',\n",
              "                                                     [key], {});\n",
              "          if (!dataTable) return;\n",
              "\n",
              "          const docLinkHtml = 'Like what you see? Visit the ' +\n",
              "            '<a target=\"_blank\" href=https://colab.research.google.com/notebooks/data_table.ipynb>data table notebook</a>'\n",
              "            + ' to learn more about interactive tables.';\n",
              "          element.innerHTML = '';\n",
              "          dataTable['output_type'] = 'display_data';\n",
              "          await google.colab.output.renderOutput(dataTable, element);\n",
              "          const docLink = document.createElement('div');\n",
              "          docLink.innerHTML = docLinkHtml;\n",
              "          element.appendChild(docLink);\n",
              "        }\n",
              "      </script>\n",
              "    </div>\n",
              "  </div>\n",
              "  "
            ]
          },
          "metadata": {},
          "execution_count": 6
        }
      ]
    },
    {
      "cell_type": "code",
      "source": [
        "dataset.Cart_Abandoned=pd.Categorical(dataset.Cart_Abandoned)\n",
        "dataset.Cart_Abandoned.dtypes"
      ],
      "metadata": {
        "colab": {
          "base_uri": "https://localhost:8080/"
        },
        "id": "tmi6N3Q2iO0c",
        "outputId": "6fae356a-86e3-481a-cea8-15df7d67c07e"
      },
      "execution_count": 7,
      "outputs": [
        {
          "output_type": "execute_result",
          "data": {
            "text/plain": [
              "CategoricalDtype(categories=[0, 1], ordered=False)"
            ]
          },
          "metadata": {},
          "execution_count": 7
        }
      ]
    },
    {
      "cell_type": "code",
      "source": [
        "dataset.Customer_Segment_Type=pd.Categorical(dataset.Customer_Segment_Type)"
      ],
      "metadata": {
        "id": "Kf53oYACloAv"
      },
      "execution_count": 8,
      "outputs": []
    },
    {
      "cell_type": "code",
      "source": [
        "dataset.dtypes"
      ],
      "metadata": {
        "colab": {
          "base_uri": "https://localhost:8080/"
        },
        "id": "9E9Gpge_lsw8",
        "outputId": "5bb7dbe9-5b73-405c-d0f9-292b2d9076f8"
      },
      "execution_count": 9,
      "outputs": [
        {
          "output_type": "execute_result",
          "data": {
            "text/plain": [
              "ID                             object\n",
              "Is_Product_Details_viewed      object\n",
              "Session_Activity_Count          int64\n",
              "No_Items_Added_InCart         float64\n",
              "No_Items_Removed_FromCart       int64\n",
              "No_Cart_Viewed                float64\n",
              "No_Checkout_Confirmed           int64\n",
              "No_Checkout_Initiated           int64\n",
              "No_Cart_Items_Viewed            int64\n",
              "No_Customer_Login               int64\n",
              "No_Page_Viewed                  int64\n",
              "Customer_Segment_Type        category\n",
              "Cart_Abandoned               category\n",
              "dtype: object"
            ]
          },
          "metadata": {},
          "execution_count": 9
        }
      ]
    },
    {
      "cell_type": "markdown",
      "source": [
        "**COUNT PLOT OF NUMBER OF ABANDONED CARTS**"
      ],
      "metadata": {
        "id": "67Hs6Jftl3AF"
      }
    },
    {
      "cell_type": "code",
      "source": [
        "sns.countplot(dataset.Cart_Abandoned)"
      ],
      "metadata": {
        "colab": {
          "base_uri": "https://localhost:8080/",
          "height": 352
        },
        "id": "N32wmMEVluic",
        "outputId": "72bfcb64-4e33-4564-888b-3914210be6aa"
      },
      "execution_count": 10,
      "outputs": [
        {
          "output_type": "stream",
          "name": "stderr",
          "text": [
            "/usr/local/lib/python3.8/dist-packages/seaborn/_decorators.py:36: FutureWarning: Pass the following variable as a keyword arg: x. From version 0.12, the only valid positional argument will be `data`, and passing other arguments without an explicit keyword will result in an error or misinterpretation.\n",
            "  warnings.warn(\n"
          ]
        },
        {
          "output_type": "execute_result",
          "data": {
            "text/plain": [
              "<matplotlib.axes._subplots.AxesSubplot at 0x7f78b8a729d0>"
            ]
          },
          "metadata": {},
          "execution_count": 10
        },
        {
          "output_type": "display_data",
          "data": {
            "text/plain": [
              "<Figure size 432x288 with 1 Axes>"
            ],
            "image/png": "[encoded data removed]"
          },
          "metadata": {
            "needs_background": "light"
          }
        }
      ]
    },
    {
      "cell_type": "markdown",
      "source": [
        "**EXPLORATORY DATA ANALYSIS**"
      ],
      "metadata": {
        "id": "OWMj_5W3mjAk"
      }
    },
    {
      "cell_type": "markdown",
      "source": [
        "\n",
        "\n",
        "*   UNIVARIATE ANALYSIS\n",
        "\n",
        "\n"
      ],
      "metadata": {
        "id": "goJhWyDsmtKR"
      }
    },
    {
      "cell_type": "code",
      "source": [
        "num=dataset.select_dtypes(include=[\"float64\",\"int64\"])\n",
        "cat=dataset.select_dtypes(include=[\"object\",\"category\"]).drop([\"ID\"],axis=1)"
      ],
      "metadata": {
        "id": "Uu2b_CuumpEe"
      },
      "execution_count": 11,
      "outputs": []
    },
    {
      "cell_type": "code",
      "source": [
        "num.shape"
      ],
      "metadata": {
        "colab": {
          "base_uri": "https://localhost:8080/"
        },
        "id": "8_QzohlZnT7I",
        "outputId": "9fa03795-6daf-45c5-dc1f-f12e19271388"
      },
      "execution_count": 12,
      "outputs": [
        {
          "output_type": "execute_result",
          "data": {
            "text/plain": [
              "(4284, 9)"
            ]
          },
          "metadata": {},
          "execution_count": 12
        }
      ]
    },
    {
      "cell_type": "markdown",
      "source": [
        "1.FOR NUMERICAL VARIABLES"
      ],
      "metadata": {
        "id": "U45UdVBVnjcB"
      }
    },
    {
      "cell_type": "code",
      "source": [
        "num.hist(bins=15, figsize=(20, 6), layout=(2, 5))"
      ],
      "metadata": {
        "colab": {
          "base_uri": "https://localhost:8080/",
          "height": 536
        },
        "id": "W3c_n_WlnXQ9",
        "outputId": "b60e577e-8dd6-4774-852b-ac30641b3e25"
      },
      "execution_count": 13,
      "outputs": [
        {
          "output_type": "execute_result",
          "data": {
            "text/plain": [
              "array([[<matplotlib.axes._subplots.AxesSubplot object at 0x7f78b853ff70>,\n",
              "        <matplotlib.axes._subplots.AxesSubplot object at 0x7f78b84843a0>,\n",
              "        <matplotlib.axes._subplots.AxesSubplot object at 0x7f78b84347c0>,\n",
              "        <matplotlib.axes._subplots.AxesSubplot object at 0x7f78b83e0bb0>,\n",
              "        <matplotlib.axes._subplots.AxesSubplot object at 0x7f78b838efa0>],\n",
              "       [<matplotlib.axes._subplots.AxesSubplot object at 0x7f78b83c8340>,\n",
              "        <matplotlib.axes._subplots.AxesSubplot object at 0x7f78b83c8430>,\n",
              "        <matplotlib.axes._subplots.AxesSubplot object at 0x7f78b83748b0>,\n",
              "        <matplotlib.axes._subplots.AxesSubplot object at 0x7f78b82d1100>,\n",
              "        <matplotlib.axes._subplots.AxesSubplot object at 0x7f78b830a3d0>]],\n",
              "      dtype=object)"
            ]
          },
          "metadata": {},
          "execution_count": 13
        },
        {
          "output_type": "display_data",
          "data": {
            "text/plain": [
              "<Figure size 1440x432 with 10 Axes>"
            ],
            "image/png": "[encoded data removed]"
          },
          "metadata": {
            "needs_background": "light"
          }
        }
      ]
    },
    {
      "cell_type": "markdown",
      "source": [
        "2.FOR CATEGORICAL VARIABLES"
      ],
      "metadata": {
        "id": "yaFJvG6dnt3o"
      }
    },
    {
      "cell_type": "code",
      "source": [
        "f, ax = plt.subplots(nrows=1,ncols=3,figsize=(20, 8))\n",
        "for i,j in zip(cat.columns.tolist(), ax.flatten()):\n",
        "    sns.countplot(x=cat[i],ax=j)"
      ],
      "metadata": {
        "colab": {
          "base_uri": "https://localhost:8080/",
          "height": 435
        },
        "id": "kSI77idendJx",
        "outputId": "e1fa605e-c9c6-42df-cb3b-08059f581f28"
      },
      "execution_count": 14,
      "outputs": [
        {
          "output_type": "display_data",
          "data": {
            "text/plain": [
              "<Figure size 1440x576 with 3 Axes>"
            ],
            "image/png": "[encoded data removed]"
          },
          "metadata": {
            "needs_background": "light"
          }
        }
      ]
    },
    {
      "cell_type": "markdown",
      "source": [
        "* BIVARIATE ANALYSIS"
      ],
      "metadata": {
        "id": "IDPJ-23DoJKz"
      }
    },
    {
      "cell_type": "markdown",
      "source": [
        "1. FOR CATEGORICAL ATTRIBUTES"
      ],
      "metadata": {
        "id": "wtT-iJ2po2ik"
      }
    },
    {
      "cell_type": "code",
      "source": [
        "sns.countplot(x=dataset.Is_Product_Details_viewed,hue=dataset.Cart_Abandoned)"
      ],
      "metadata": {
        "colab": {
          "base_uri": "https://localhost:8080/",
          "height": 297
        },
        "id": "6mTk6-rEoHN2",
        "outputId": "2df55aca-7ca2-4005-84a8-4944b17057e4"
      },
      "execution_count": 16,
      "outputs": [
        {
          "output_type": "execute_result",
          "data": {
            "text/plain": [
              "<matplotlib.axes._subplots.AxesSubplot at 0x7f78b77f6e20>"
            ]
          },
          "metadata": {},
          "execution_count": 16
        },
        {
          "output_type": "display_data",
          "data": {
            "text/plain": [
              "<Figure size 432x288 with 1 Axes>"
            ],
            "image/png": "[encoded data removed]"
          },
          "metadata": {
            "needs_background": "light"
          }
        }
      ]
    },
    {
      "cell_type": "code",
      "source": [
        "sns.countplot(x=dataset.Customer_Segment_Type,hue=dataset.Cart_Abandoned)"
      ],
      "metadata": {
        "colab": {
          "base_uri": "https://localhost:8080/",
          "height": 297
        },
        "id": "XqZR8-QwpTOM",
        "outputId": "17818f15-03a9-4d78-f2ca-673da9664a6c"
      },
      "execution_count": 17,
      "outputs": [
        {
          "output_type": "execute_result",
          "data": {
            "text/plain": [
              "<matplotlib.axes._subplots.AxesSubplot at 0x7f78b83a3880>"
            ]
          },
          "metadata": {},
          "execution_count": 17
        },
        {
          "output_type": "display_data",
          "data": {
            "text/plain": [
              "<Figure size 432x288 with 1 Axes>"
            ],
            "image/png": "[encoded data removed]"
          },
          "metadata": {
            "needs_background": "light"
          }
        }
      ]
    },
    {
      "cell_type": "markdown",
      "source": [
        "2. FOR NUMERICAL ATTRIBUTES"
      ],
      "metadata": {
        "id": "syw-GrphpZ5M"
      }
    },
    {
      "cell_type": "code",
      "source": [
        "fig, ax = plt.subplots(2, 5, figsize=(20, 10))\n",
        "for var, subplot in zip(num.columns.tolist(), ax.flatten()):\n",
        "    sns.boxplot(x=cat[\"Cart_Abandoned\"], y=num[var], ax=subplot)"
      ],
      "metadata": {
        "colab": {
          "base_uri": "https://localhost:8080/",
          "height": 528
        },
        "id": "aN4WcgHwpnAr",
        "outputId": "e288bdc0-a185-4579-d168-085bee9d7597"
      },
      "execution_count": 18,
      "outputs": [
        {
          "output_type": "display_data",
          "data": {
            "text/plain": [
              "<Figure size 1440x720 with 10 Axes>"
            ],
            "image/png": "[encoded data removed]"
          },
          "metadata": {
            "needs_background": "light"
          }
        }
      ]
    },
    {
      "cell_type": "markdown",
      "source": [
        "**CORELATION PLOT OF INDEPENDENT ATTRIBUTES**"
      ],
      "metadata": {
        "id": "lvWdOAZTpuBZ"
      }
    },
    {
      "cell_type": "code",
      "source": [
        "corr = num.corr()\n",
        "sns.heatmap(corr)"
      ],
      "metadata": {
        "colab": {
          "base_uri": "https://localhost:8080/",
          "height": 425
        },
        "id": "AASarWBEp2pL",
        "outputId": "a00dd053-dd6d-404b-9692-131826d6c5ae"
      },
      "execution_count": 19,
      "outputs": [
        {
          "output_type": "execute_result",
          "data": {
            "text/plain": [
              "<matplotlib.axes._subplots.AxesSubplot at 0x7f78b78e94f0>"
            ]
          },
          "metadata": {},
          "execution_count": 19
        },
        {
          "output_type": "display_data",
          "data": {
            "text/plain": [
              "<Figure size 432x288 with 2 Axes>"
            ],
            "image/png": "[encoded data removed]"
          },
          "metadata": {
            "needs_background": "light"
          }
        }
      ]
    },
    {
      "cell_type": "markdown",
      "source": [
        "**DATA PREPARATION**"
      ],
      "metadata": {
        "id": "3buQ0ZZop9Pi"
      }
    },
    {
      "cell_type": "markdown",
      "source": [
        "* FINDING NA VALUES FROM DATASET"
      ],
      "metadata": {
        "id": "-mYvTFnAqOuj"
      }
    },
    {
      "cell_type": "code",
      "source": [
        "data = dataset.copy()\n",
        "data.isna().sum()"
      ],
      "metadata": {
        "colab": {
          "base_uri": "https://localhost:8080/"
        },
        "id": "elehv9Jkp7C9",
        "outputId": "268a9936-98af-4650-f071-b7073cdaec2b"
      },
      "execution_count": 20,
      "outputs": [
        {
          "output_type": "execute_result",
          "data": {
            "text/plain": [
              "ID                           0\n",
              "Is_Product_Details_viewed    0\n",
              "Session_Activity_Count       0\n",
              "No_Items_Added_InCart        9\n",
              "No_Items_Removed_FromCart    0\n",
              "No_Cart_Viewed               9\n",
              "No_Checkout_Confirmed        0\n",
              "No_Checkout_Initiated        0\n",
              "No_Cart_Items_Viewed         0\n",
              "No_Customer_Login            0\n",
              "No_Page_Viewed               0\n",
              "Customer_Segment_Type        0\n",
              "Cart_Abandoned               0\n",
              "dtype: int64"
            ]
          },
          "metadata": {},
          "execution_count": 20
        }
      ]
    },
    {
      "cell_type": "code",
      "source": [
        "#COLUMNS WHICH HAVE NA VALUES\n",
        "null_col = data.columns[data.isna().any()].tolist()\n",
        "null_col"
      ],
      "metadata": {
        "colab": {
          "base_uri": "https://localhost:8080/"
        },
        "id": "mNBby-FWqbi5",
        "outputId": "41712be9-1140-4f3a-e56f-2855ae3fa574"
      },
      "execution_count": 21,
      "outputs": [
        {
          "output_type": "execute_result",
          "data": {
            "text/plain": [
              "['No_Items_Added_InCart', 'No_Cart_Viewed']"
            ]
          },
          "metadata": {},
          "execution_count": 21
        }
      ]
    },
    {
      "cell_type": "markdown",
      "source": [
        "* REPLACING NA VALUES WITH RESPECTIVE COLUMN MEAN"
      ],
      "metadata": {
        "id": "T5V3Umtvqu-Y"
      }
    },
    {
      "cell_type": "code",
      "source": [
        "data['No_Items_Added_InCart'] = data['No_Items_Added_InCart'].fillna(data['No_Items_Added_InCart'].mean()) \n",
        "data['No_Cart_Viewed'] = data['No_Cart_Viewed'].fillna(data['No_Cart_Viewed'].mean()) "
      ],
      "metadata": {
        "id": "d9p_EkiOqij9"
      },
      "execution_count": 22,
      "outputs": []
    },
    {
      "cell_type": "code",
      "source": [
        "data[null_col] = data[null_col].astype(\"int64\")"
      ],
      "metadata": {
        "id": "wzijOGKwq84c"
      },
      "execution_count": 23,
      "outputs": []
    },
    {
      "cell_type": "code",
      "source": [
        "#CHECKING IF STILL ANY NA VALUES PRESENT\n",
        "data.isna().sum()"
      ],
      "metadata": {
        "colab": {
          "base_uri": "https://localhost:8080/"
        },
        "id": "9VMKNZEPq-Jz",
        "outputId": "23f244a5-35e2-482b-cfc0-cb32ec74a63d"
      },
      "execution_count": 24,
      "outputs": [
        {
          "output_type": "execute_result",
          "data": {
            "text/plain": [
              "ID                           0\n",
              "Is_Product_Details_viewed    0\n",
              "Session_Activity_Count       0\n",
              "No_Items_Added_InCart        0\n",
              "No_Items_Removed_FromCart    0\n",
              "No_Cart_Viewed               0\n",
              "No_Checkout_Confirmed        0\n",
              "No_Checkout_Initiated        0\n",
              "No_Cart_Items_Viewed         0\n",
              "No_Customer_Login            0\n",
              "No_Page_Viewed               0\n",
              "Customer_Segment_Type        0\n",
              "Cart_Abandoned               0\n",
              "dtype: int64"
            ]
          },
          "metadata": {},
          "execution_count": 24
        }
      ]
    },
    {
      "cell_type": "markdown",
      "source": [
        "1. TAKING CARE OF OUTLIERS USING MIN-MAX NORMALISATION"
      ],
      "metadata": {
        "id": "0oMYbvzprLxr"
      }
    },
    {
      "cell_type": "code",
      "source": [
        "num=data.select_dtypes(include=[\"int64\"])\n",
        "cat=data.select_dtypes(include=[\"object\",\"category\"]).drop([\"ID\"],axis=1)"
      ],
      "metadata": {
        "id": "jckztOMzrEs5"
      },
      "execution_count": 25,
      "outputs": []
    },
    {
      "cell_type": "code",
      "source": [
        "min_max_scaler = MinMaxScaler()\n",
        "x_scaled = min_max_scaler.fit_transform(num)\n",
        "x_scaled"
      ],
      "metadata": {
        "colab": {
          "base_uri": "https://localhost:8080/"
        },
        "id": "_4mkEYmjrchf",
        "outputId": "80d7896b-fb36-4589-8ba0-1cea23f4d70f"
      },
      "execution_count": 26,
      "outputs": [
        {
          "output_type": "execute_result",
          "data": {
            "text/plain": [
              "array([[0.00917431, 0.00444444, 0.        , ..., 0.00390625, 0.        ,\n",
              "        0.        ],\n",
              "       [0.08715596, 0.        , 0.        , ..., 0.0078125 , 0.        ,\n",
              "        0.05714286],\n",
              "       [0.01834862, 0.02222222, 0.        , ..., 0.00390625, 0.        ,\n",
              "        0.        ],\n",
              "       ...,\n",
              "       [0.00917431, 0.00444444, 0.        , ..., 0.00390625, 0.        ,\n",
              "        0.        ],\n",
              "       [0.01834862, 0.01333333, 0.        , ..., 0.00390625, 0.        ,\n",
              "        0.05714286],\n",
              "       [0.07110092, 0.01777778, 0.        , ..., 0.02734375, 0.        ,\n",
              "        0.02857143]])"
            ]
          },
          "metadata": {},
          "execution_count": 26
        }
      ]
    },
    {
      "cell_type": "code",
      "source": [
        "#NORMALISED DATA\n",
        "df_scaled = pd.DataFrame(x_scaled,columns=num.columns)\n",
        "df_scaled.head()"
      ],
      "metadata": {
        "colab": {
          "base_uri": "https://localhost:8080/",
          "height": 270
        },
        "id": "Rq2AUI4Erhb1",
        "outputId": "a90654fd-fa92-4541-b83b-4c5ab673379b"
      },
      "execution_count": 28,
      "outputs": [
        {
          "output_type": "execute_result",
          "data": {
            "text/plain": [
              "   Session_Activity_Count  No_Items_Added_InCart  No_Items_Removed_FromCart  \\\n",
              "0                0.009174               0.004444                       0.00   \n",
              "1                0.087156               0.000000                       0.00   \n",
              "2                0.018349               0.022222                       0.00   \n",
              "3                0.013761               0.000000                       0.00   \n",
              "4                0.071101               0.062222                       0.24   \n",
              "\n",
              "   No_Cart_Viewed  No_Checkout_Confirmed  No_Checkout_Initiated   \\\n",
              "0        0.000000               0.000000                0.000000   \n",
              "1        0.058824               0.000000                0.000000   \n",
              "2        0.000000               0.090909                0.071429   \n",
              "3        0.058824               0.000000                0.000000   \n",
              "4        0.029412               0.000000                0.000000   \n",
              "\n",
              "   No_Cart_Items_Viewed  No_Customer_Login  No_Page_Viewed  \n",
              "0              0.003906                0.0        0.000000  \n",
              "1              0.007812                0.0        0.057143  \n",
              "2              0.003906                0.0        0.000000  \n",
              "3              0.015625                0.0        0.000000  \n",
              "4              0.015625                0.0        0.000000  "
            ],
            "text/html": [
              "\n",
              "  <div id=\"df-c85f6ac9-dd7e-478d-b997-3b589f1e6d9b\">\n",
              "    <div class=\"colab-df-container\">\n",
              "      <div>\n",
              "<style scoped>\n",
              "    .dataframe tbody tr th:only-of-type {\n",
              "        vertical-align: middle;\n",
              "    }\n",
              "\n",
              "    .dataframe tbody tr th {\n",
              "        vertical-align: top;\n",
              "    }\n",
              "\n",
              "    .dataframe thead th {\n",
              "        text-align: right;\n",
              "    }\n",
              "</style>\n",
              "<table border=\"1\" class=\"dataframe\">\n",
              "  <thead>\n",
              "    <tr style=\"text-align: right;\">\n",
              "      <th></th>\n",
              "      <th>Session_Activity_Count</th>\n",
              "      <th>No_Items_Added_InCart</th>\n",
              "      <th>No_Items_Removed_FromCart</th>\n",
              "      <th>No_Cart_Viewed</th>\n",
              "      <th>No_Checkout_Confirmed</th>\n",
              "      <th>No_Checkout_Initiated</th>\n",
              "      <th>No_Cart_Items_Viewed</th>\n",
              "      <th>No_Customer_Login</th>\n",
              "      <th>No_Page_Viewed</th>\n",
              "    </tr>\n",
              "  </thead>\n",
              "  <tbody>\n",
              "    <tr>\n",
              "      <th>0</th>\n",
              "      <td>0.009174</td>\n",
              "      <td>0.004444</td>\n",
              "      <td>0.00</td>\n",
              "      <td>0.000000</td>\n",
              "      <td>0.000000</td>\n",
              "      <td>0.000000</td>\n",
              "      <td>0.003906</td>\n",
              "      <td>0.0</td>\n",
              "      <td>0.000000</td>\n",
              "    </tr>\n",
              "    <tr>\n",
              "      <th>1</th>\n",
              "      <td>0.087156</td>\n",
              "      <td>0.000000</td>\n",
              "      <td>0.00</td>\n",
              "      <td>0.058824</td>\n",
              "      <td>0.000000</td>\n",
              "      <td>0.000000</td>\n",
              "      <td>0.007812</td>\n",
              "      <td>0.0</td>\n",
              "      <td>0.057143</td>\n",
              "    </tr>\n",
              "    <tr>\n",
              "      <th>2</th>\n",
              "      <td>0.018349</td>\n",
              "      <td>0.022222</td>\n",
              "      <td>0.00</td>\n",
              "      <td>0.000000</td>\n",
              "      <td>0.090909</td>\n",
              "      <td>0.071429</td>\n",
              "      <td>0.003906</td>\n",
              "      <td>0.0</td>\n",
              "      <td>0.000000</td>\n",
              "    </tr>\n",
              "    <tr>\n",
              "      <th>3</th>\n",
              "      <td>0.013761</td>\n",
              "      <td>0.000000</td>\n",
              "      <td>0.00</td>\n",
              "      <td>0.058824</td>\n",
              "      <td>0.000000</td>\n",
              "      <td>0.000000</td>\n",
              "      <td>0.015625</td>\n",
              "      <td>0.0</td>\n",
              "      <td>0.000000</td>\n",
              "    </tr>\n",
              "    <tr>\n",
              "      <th>4</th>\n",
              "      <td>0.071101</td>\n",
              "      <td>0.062222</td>\n",
              "      <td>0.24</td>\n",
              "      <td>0.029412</td>\n",
              "      <td>0.000000</td>\n",
              "      <td>0.000000</td>\n",
              "      <td>0.015625</td>\n",
              "      <td>0.0</td>\n",
              "      <td>0.000000</td>\n",
              "    </tr>\n",
              "  </tbody>\n",
              "</table>\n",
              "</div>\n",
              "      <button class=\"colab-df-convert\" onclick=\"convertToInteractive('df-c85f6ac9-dd7e-478d-b997-3b589f1e6d9b')\"\n",
              "              title=\"Convert this dataframe to an interactive table.\"\n",
              "              style=\"display:none;\">\n",
              "        \n",
              "  <svg xmlns=\"http://www.w3.org/2000/svg\" height=\"24px\"viewBox=\"0 0 24 24\"\n",
              "       width=\"24px\">\n",
              "    <path d=\"M0 0h24v24H0V0z\" fill=\"none\"/>\n",
              "    <path d=\"M18.56 5.44l.94 2.06.94-2.06 2.06-.94-2.06-.94-.94-2.06-.94 2.06-2.06.94zm-11 1L8.5 8.5l.94-2.06 2.06-.94-2.06-.94L8.5 2.5l-.94 2.06-2.06.94zm10 10l.94 2.06.94-2.06 2.06-.94-2.06-.94-.94-2.06-.94 2.06-2.06.94z\"/><path d=\"M17.41 7.96l-1.37-1.37c-.4-.4-.92-.59-1.43-.59-.52 0-1.04.2-1.43.59L10.3 9.45l-7.72 7.72c-.78.78-.78 2.05 0 2.83L4 21.41c.39.39.9.59 1.41.59.51 0 1.02-.2 1.41-.59l7.78-7.78 2.81-2.81c.8-.78.8-2.07 0-2.86zM5.41 20L4 18.59l7.72-7.72 1.47 1.35L5.41 20z\"/>\n",
              "  </svg>\n",
              "      </button>\n",
              "      \n",
              "  <style>\n",
              "    .colab-df-container {\n",
              "      display:flex;\n",
              "      flex-wrap:wrap;\n",
              "      gap: 12px;\n",
              "    }\n",
              "\n",
              "    .colab-df-convert {\n",
              "      background-color: #E8F0FE;\n",
              "      border: none;\n",
              "      border-radius: 50%;\n",
              "      cursor: pointer;\n",
              "      display: none;\n",
              "      fill: #1967D2;\n",
              "      height: 32px;\n",
              "      padding: 0 0 0 0;\n",
              "      width: 32px;\n",
              "    }\n",
              "\n",
              "    .colab-df-convert:hover {\n",
              "      background-color: #E2EBFA;\n",
              "      box-shadow: 0px 1px 2px rgba(60, 64, 67, 0.3), 0px 1px 3px 1px rgba(60, 64, 67, 0.15);\n",
              "      fill: #174EA6;\n",
              "    }\n",
              "\n",
              "    [theme=dark] .colab-df-convert {\n",
              "      background-color: #3B4455;\n",
              "      fill: #D2E3FC;\n",
              "    }\n",
              "\n",
              "    [theme=dark] .colab-df-convert:hover {\n",
              "      background-color: #434B5C;\n",
              "      box-shadow: 0px 1px 3px 1px rgba(0, 0, 0, 0.15);\n",
              "      filter: drop-shadow(0px 1px 2px rgba(0, 0, 0, 0.3));\n",
              "      fill: #FFFFFF;\n",
              "    }\n",
              "  </style>\n",
              "\n",
              "      <script>\n",
              "        const buttonEl =\n",
              "          document.querySelector('#df-c85f6ac9-dd7e-478d-b997-3b589f1e6d9b button.colab-df-convert');\n",
              "        buttonEl.style.display =\n",
              "          google.colab.kernel.accessAllowed ? 'block' : 'none';\n",
              "\n",
              "        async function convertToInteractive(key) {\n",
              "          const element = document.querySelector('#df-c85f6ac9-dd7e-478d-b997-3b589f1e6d9b');\n",
              "          const dataTable =\n",
              "            await google.colab.kernel.invokeFunction('convertToInteractive',\n",
              "                                                     [key], {});\n",
              "          if (!dataTable) return;\n",
              "\n",
              "          const docLinkHtml = 'Like what you see? Visit the ' +\n",
              "            '<a target=\"_blank\" href=https://colab.research.google.com/notebooks/data_table.ipynb>data table notebook</a>'\n",
              "            + ' to learn more about interactive tables.';\n",
              "          element.innerHTML = '';\n",
              "          dataTable['output_type'] = 'display_data';\n",
              "          await google.colab.output.renderOutput(dataTable, element);\n",
              "          const docLink = document.createElement('div');\n",
              "          docLink.innerHTML = docLinkHtml;\n",
              "          element.appendChild(docLink);\n",
              "        }\n",
              "      </script>\n",
              "    </div>\n",
              "  </div>\n",
              "  "
            ]
          },
          "metadata": {},
          "execution_count": 28
        }
      ]
    },
    {
      "cell_type": "code",
      "source": [
        "#DATA VISUALIZATION FOR NORMALISED DATA\n",
        "df_scaled.hist(bins=15, figsize=(20, 6), layout=(2, 5))"
      ],
      "metadata": {
        "colab": {
          "base_uri": "https://localhost:8080/",
          "height": 536
        },
        "id": "tX9-WwPzrryz",
        "outputId": "f9de2bfe-920a-4183-f971-0ef2d1558303"
      },
      "execution_count": 29,
      "outputs": [
        {
          "output_type": "execute_result",
          "data": {
            "text/plain": [
              "array([[<matplotlib.axes._subplots.AxesSubplot object at 0x7f78b3ca03a0>,\n",
              "        <matplotlib.axes._subplots.AxesSubplot object at 0x7f78b3c50250>,\n",
              "        <matplotlib.axes._subplots.AxesSubplot object at 0x7f78b3bfa9a0>,\n",
              "        <matplotlib.axes._subplots.AxesSubplot object at 0x7f78b3c23160>,\n",
              "        <matplotlib.axes._subplots.AxesSubplot object at 0x7f78b3bdcb80>],\n",
              "       [<matplotlib.axes._subplots.AxesSubplot object at 0x7f78b3b972b0>,\n",
              "        <matplotlib.axes._subplots.AxesSubplot object at 0x7f78b3b973a0>,\n",
              "        <matplotlib.axes._subplots.AxesSubplot object at 0x7f78b3b41760>,\n",
              "        <matplotlib.axes._subplots.AxesSubplot object at 0x7f78b3b254f0>,\n",
              "        <matplotlib.axes._subplots.AxesSubplot object at 0x7f78b3ad0b50>]],\n",
              "      dtype=object)"
            ]
          },
          "metadata": {},
          "execution_count": 29
        },
        {
          "output_type": "display_data",
          "data": {
            "text/plain": [
              "<Figure size 1440x432 with 10 Axes>"
            ],
            "image/png": "[encoded data removed]"
          },
          "metadata": {
            "needs_background": "light"
          }
        }
      ]
    },
    {
      "cell_type": "code",
      "source": [
        "fig, ax = plt.subplots(2, 5, figsize=(20, 10))\n",
        "for var, subplot in zip(df_scaled.columns.tolist(), ax.flatten()):\n",
        "    sns.boxplot(y=df_scaled[var], ax=subplot)"
      ],
      "metadata": {
        "colab": {
          "base_uri": "https://localhost:8080/",
          "height": 517
        },
        "id": "JbUyN2X0r3iJ",
        "outputId": "283e9f3a-692c-4f4a-d778-152a08890c9a"
      },
      "execution_count": 30,
      "outputs": [
        {
          "output_type": "display_data",
          "data": {
            "text/plain": [
              "<Figure size 1440x720 with 10 Axes>"
            ],
            "image/png": "[encoded data removed]"
          },
          "metadata": {
            "needs_background": "light"
          }
        }
      ]
    },
    {
      "cell_type": "markdown",
      "source": [
        "2. TAKING CARE OF OUTLIERS USING BOX-COX NORMALISATION"
      ],
      "metadata": {
        "id": "CdQfVaoxr-H-"
      }
    },
    {
      "cell_type": "code",
      "source": [
        "df_scaled_boxcox=boxcox1p(num, 0)"
      ],
      "metadata": {
        "id": "IHXkRv8RsE-M"
      },
      "execution_count": 32,
      "outputs": []
    },
    {
      "cell_type": "code",
      "source": [
        "fig, ax = plt.subplots(2, 5, figsize=(20, 10))\n",
        "for var, subplot in zip(df_scaled_boxcox.columns.tolist(), ax.flatten()):\n",
        "    sns.boxplot(y=df_scaled_boxcox[var], ax=subplot)"
      ],
      "metadata": {
        "colab": {
          "base_uri": "https://localhost:8080/",
          "height": 517
        },
        "id": "aNhROq5_sL9T",
        "outputId": "4c70bfd4-e11c-4430-83e9-27c6c8e17479"
      },
      "execution_count": 33,
      "outputs": [
        {
          "output_type": "display_data",
          "data": {
            "text/plain": [
              "<Figure size 1440x720 with 10 Axes>"
            ],
            "image/png": "[encoded data removed]"
          },
          "metadata": {
            "needs_background": "light"
          }
        }
      ]
    },
    {
      "cell_type": "code",
      "source": [
        "df_scaled_boxcox.hist(bins=15, figsize=(20, 6), layout=(2, 5))"
      ],
      "metadata": {
        "colab": {
          "base_uri": "https://localhost:8080/",
          "height": 536
        },
        "id": "bCDTJVX_sJwp",
        "outputId": "612a6819-4227-400b-edd4-7d6e18268e6f"
      },
      "execution_count": 34,
      "outputs": [
        {
          "output_type": "execute_result",
          "data": {
            "text/plain": [
              "array([[<matplotlib.axes._subplots.AxesSubplot object at 0x7f78b361d700>,\n",
              "        <matplotlib.axes._subplots.AxesSubplot object at 0x7f78b67c2040>,\n",
              "        <matplotlib.axes._subplots.AxesSubplot object at 0x7f78b67f8790>,\n",
              "        <matplotlib.axes._subplots.AxesSubplot object at 0x7f78b65212b0>,\n",
              "        <matplotlib.axes._subplots.AxesSubplot object at 0x7f78b65093a0>],\n",
              "       [<matplotlib.axes._subplots.AxesSubplot object at 0x7f78b64fbaf0>,\n",
              "        <matplotlib.axes._subplots.AxesSubplot object at 0x7f78b64fb5b0>,\n",
              "        <matplotlib.axes._subplots.AxesSubplot object at 0x7f78b6569550>,\n",
              "        <matplotlib.axes._subplots.AxesSubplot object at 0x7f78b6616f70>,\n",
              "        <matplotlib.axes._subplots.AxesSubplot object at 0x7f78b6555b20>]],\n",
              "      dtype=object)"
            ]
          },
          "metadata": {},
          "execution_count": 34
        },
        {
          "output_type": "display_data",
          "data": {
            "text/plain": [
              "<Figure size 1440x432 with 10 Axes>"
            ],
            "image/png": "[encoded data removed]"
          },
          "metadata": {
            "needs_background": "light"
          }
        }
      ]
    },
    {
      "cell_type": "code",
      "source": [
        "df_scaled_boxcox.head()"
      ],
      "metadata": {
        "colab": {
          "base_uri": "https://localhost:8080/",
          "height": 270
        },
        "id": "MldWP0EjsXMS",
        "outputId": "b3a683b1-b401-45ec-ca5e-9f98fffd223e"
      },
      "execution_count": 35,
      "outputs": [
        {
          "output_type": "execute_result",
          "data": {
            "text/plain": [
              "   Session_Activity_Count  No_Items_Added_InCart  No_Items_Removed_FromCart  \\\n",
              "0                1.609438               0.693147                   0.000000   \n",
              "1                3.663562               0.000000                   0.000000   \n",
              "2                2.197225               1.791759                   0.000000   \n",
              "3                1.945910               0.000000                   0.000000   \n",
              "4                3.465736               2.708050                   2.564949   \n",
              "\n",
              "   No_Cart_Viewed  No_Checkout_Confirmed  No_Checkout_Initiated   \\\n",
              "0        0.000000               0.000000                0.000000   \n",
              "1        1.098612               0.000000                0.000000   \n",
              "2        0.000000               0.693147                0.693147   \n",
              "3        1.098612               0.000000                0.000000   \n",
              "4        0.693147               0.000000                0.000000   \n",
              "\n",
              "   No_Cart_Items_Viewed  No_Customer_Login  No_Page_Viewed  \n",
              "0              0.693147                0.0        0.000000  \n",
              "1              1.098612                0.0        1.098612  \n",
              "2              0.693147                0.0        0.000000  \n",
              "3              1.609438                0.0        0.000000  \n",
              "4              1.609438                0.0        0.000000  "
            ],
            "text/html": [
              "\n",
              "  <div id=\"df-7f864fc5-cc7d-441b-8d18-08f30be1d652\">\n",
              "    <div class=\"colab-df-container\">\n",
              "      <div>\n",
              "<style scoped>\n",
              "    .dataframe tbody tr th:only-of-type {\n",
              "        vertical-align: middle;\n",
              "    }\n",
              "\n",
              "    .dataframe tbody tr th {\n",
              "        vertical-align: top;\n",
              "    }\n",
              "\n",
              "    .dataframe thead th {\n",
              "        text-align: right;\n",
              "    }\n",
              "</style>\n",
              "<table border=\"1\" class=\"dataframe\">\n",
              "  <thead>\n",
              "    <tr style=\"text-align: right;\">\n",
              "      <th></th>\n",
              "      <th>Session_Activity_Count</th>\n",
              "      <th>No_Items_Added_InCart</th>\n",
              "      <th>No_Items_Removed_FromCart</th>\n",
              "      <th>No_Cart_Viewed</th>\n",
              "      <th>No_Checkout_Confirmed</th>\n",
              "      <th>No_Checkout_Initiated</th>\n",
              "      <th>No_Cart_Items_Viewed</th>\n",
              "      <th>No_Customer_Login</th>\n",
              "      <th>No_Page_Viewed</th>\n",
              "    </tr>\n",
              "  </thead>\n",
              "  <tbody>\n",
              "    <tr>\n",
              "      <th>0</th>\n",
              "      <td>1.609438</td>\n",
              "      <td>0.693147</td>\n",
              "      <td>0.000000</td>\n",
              "      <td>0.000000</td>\n",
              "      <td>0.000000</td>\n",
              "      <td>0.000000</td>\n",
              "      <td>0.693147</td>\n",
              "      <td>0.0</td>\n",
              "      <td>0.000000</td>\n",
              "    </tr>\n",
              "    <tr>\n",
              "      <th>1</th>\n",
              "      <td>3.663562</td>\n",
              "      <td>0.000000</td>\n",
              "      <td>0.000000</td>\n",
              "      <td>1.098612</td>\n",
              "      <td>0.000000</td>\n",
              "      <td>0.000000</td>\n",
              "      <td>1.098612</td>\n",
              "      <td>0.0</td>\n",
              "      <td>1.098612</td>\n",
              "    </tr>\n",
              "    <tr>\n",
              "      <th>2</th>\n",
              "      <td>2.197225</td>\n",
              "      <td>1.791759</td>\n",
              "      <td>0.000000</td>\n",
              "      <td>0.000000</td>\n",
              "      <td>0.693147</td>\n",
              "      <td>0.693147</td>\n",
              "      <td>0.693147</td>\n",
              "      <td>0.0</td>\n",
              "      <td>0.000000</td>\n",
              "    </tr>\n",
              "    <tr>\n",
              "      <th>3</th>\n",
              "      <td>1.945910</td>\n",
              "      <td>0.000000</td>\n",
              "      <td>0.000000</td>\n",
              "      <td>1.098612</td>\n",
              "      <td>0.000000</td>\n",
              "      <td>0.000000</td>\n",
              "      <td>1.609438</td>\n",
              "      <td>0.0</td>\n",
              "      <td>0.000000</td>\n",
              "    </tr>\n",
              "    <tr>\n",
              "      <th>4</th>\n",
              "      <td>3.465736</td>\n",
              "      <td>2.708050</td>\n",
              "      <td>2.564949</td>\n",
              "      <td>0.693147</td>\n",
              "      <td>0.000000</td>\n",
              "      <td>0.000000</td>\n",
              "      <td>1.609438</td>\n",
              "      <td>0.0</td>\n",
              "      <td>0.000000</td>\n",
              "    </tr>\n",
              "  </tbody>\n",
              "</table>\n",
              "</div>\n",
              "      <button class=\"colab-df-convert\" onclick=\"convertToInteractive('df-7f864fc5-cc7d-441b-8d18-08f30be1d652')\"\n",
              "              title=\"Convert this dataframe to an interactive table.\"\n",
              "              style=\"display:none;\">\n",
              "        \n",
              "  <svg xmlns=\"http://www.w3.org/2000/svg\" height=\"24px\"viewBox=\"0 0 24 24\"\n",
              "       width=\"24px\">\n",
              "    <path d=\"M0 0h24v24H0V0z\" fill=\"none\"/>\n",
              "    <path d=\"M18.56 5.44l.94 2.06.94-2.06 2.06-.94-2.06-.94-.94-2.06-.94 2.06-2.06.94zm-11 1L8.5 8.5l.94-2.06 2.06-.94-2.06-.94L8.5 2.5l-.94 2.06-2.06.94zm10 10l.94 2.06.94-2.06 2.06-.94-2.06-.94-.94-2.06-.94 2.06-2.06.94z\"/><path d=\"M17.41 7.96l-1.37-1.37c-.4-.4-.92-.59-1.43-.59-.52 0-1.04.2-1.43.59L10.3 9.45l-7.72 7.72c-.78.78-.78 2.05 0 2.83L4 21.41c.39.39.9.59 1.41.59.51 0 1.02-.2 1.41-.59l7.78-7.78 2.81-2.81c.8-.78.8-2.07 0-2.86zM5.41 20L4 18.59l7.72-7.72 1.47 1.35L5.41 20z\"/>\n",
              "  </svg>\n",
              "      </button>\n",
              "      \n",
              "  <style>\n",
              "    .colab-df-container {\n",
              "      display:flex;\n",
              "      flex-wrap:wrap;\n",
              "      gap: 12px;\n",
              "    }\n",
              "\n",
              "    .colab-df-convert {\n",
              "      background-color: #E8F0FE;\n",
              "      border: none;\n",
              "      border-radius: 50%;\n",
              "      cursor: pointer;\n",
              "      display: none;\n",
              "      fill: #1967D2;\n",
              "      height: 32px;\n",
              "      padding: 0 0 0 0;\n",
              "      width: 32px;\n",
              "    }\n",
              "\n",
              "    .colab-df-convert:hover {\n",
              "      background-color: #E2EBFA;\n",
              "      box-shadow: 0px 1px 2px rgba(60, 64, 67, 0.3), 0px 1px 3px 1px rgba(60, 64, 67, 0.15);\n",
              "      fill: #174EA6;\n",
              "    }\n",
              "\n",
              "    [theme=dark] .colab-df-convert {\n",
              "      background-color: #3B4455;\n",
              "      fill: #D2E3FC;\n",
              "    }\n",
              "\n",
              "    [theme=dark] .colab-df-convert:hover {\n",
              "      background-color: #434B5C;\n",
              "      box-shadow: 0px 1px 3px 1px rgba(0, 0, 0, 0.15);\n",
              "      filter: drop-shadow(0px 1px 2px rgba(0, 0, 0, 0.3));\n",
              "      fill: #FFFFFF;\n",
              "    }\n",
              "  </style>\n",
              "\n",
              "      <script>\n",
              "        const buttonEl =\n",
              "          document.querySelector('#df-7f864fc5-cc7d-441b-8d18-08f30be1d652 button.colab-df-convert');\n",
              "        buttonEl.style.display =\n",
              "          google.colab.kernel.accessAllowed ? 'block' : 'none';\n",
              "\n",
              "        async function convertToInteractive(key) {\n",
              "          const element = document.querySelector('#df-7f864fc5-cc7d-441b-8d18-08f30be1d652');\n",
              "          const dataTable =\n",
              "            await google.colab.kernel.invokeFunction('convertToInteractive',\n",
              "                                                     [key], {});\n",
              "          if (!dataTable) return;\n",
              "\n",
              "          const docLinkHtml = 'Like what you see? Visit the ' +\n",
              "            '<a target=\"_blank\" href=https://colab.research.google.com/notebooks/data_table.ipynb>data table notebook</a>'\n",
              "            + ' to learn more about interactive tables.';\n",
              "          element.innerHTML = '';\n",
              "          dataTable['output_type'] = 'display_data';\n",
              "          await google.colab.output.renderOutput(dataTable, element);\n",
              "          const docLink = document.createElement('div');\n",
              "          docLink.innerHTML = docLinkHtml;\n",
              "          element.appendChild(docLink);\n",
              "        }\n",
              "      </script>\n",
              "    </div>\n",
              "  </div>\n",
              "  "
            ]
          },
          "metadata": {},
          "execution_count": 35
        }
      ]
    },
    {
      "cell_type": "code",
      "source": [
        "df_scaled_boxcox[\"ID\"]=data.ID\n",
        "df_scaled_boxcox.set_index('ID',inplace=True)"
      ],
      "metadata": {
        "id": "QP28EjAwsZN4"
      },
      "execution_count": 36,
      "outputs": []
    },
    {
      "cell_type": "code",
      "source": [
        "df_scaled_boxcox.reset_index(inplace=True)"
      ],
      "metadata": {
        "id": "XwIp1L5pshuZ"
      },
      "execution_count": 37,
      "outputs": []
    },
    {
      "cell_type": "code",
      "source": [
        "df_final=df_scaled_boxcox.join(cat)\n",
        "df_final.head(3)"
      ],
      "metadata": {
        "colab": {
          "base_uri": "https://localhost:8080/",
          "height": 207
        },
        "id": "fSmoZpJOsqgc",
        "outputId": "a4266c99-5967-47d2-af03-56478518f586"
      },
      "execution_count": 38,
      "outputs": [
        {
          "output_type": "execute_result",
          "data": {
            "text/plain": [
              "             ID  Session_Activity_Count  No_Items_Added_InCart  \\\n",
              "0  Session_ID_0                1.609438               0.693147   \n",
              "1  Session_ID_1                3.663562               0.000000   \n",
              "2  Session_ID_2                2.197225               1.791759   \n",
              "\n",
              "   No_Items_Removed_FromCart  No_Cart_Viewed  No_Checkout_Confirmed  \\\n",
              "0                        0.0        0.000000               0.000000   \n",
              "1                        0.0        1.098612               0.000000   \n",
              "2                        0.0        0.000000               0.693147   \n",
              "\n",
              "   No_Checkout_Initiated   No_Cart_Items_Viewed  No_Customer_Login  \\\n",
              "0                0.000000              0.693147                0.0   \n",
              "1                0.000000              1.098612                0.0   \n",
              "2                0.693147              0.693147                0.0   \n",
              "\n",
              "   No_Page_Viewed Is_Product_Details_viewed Customer_Segment_Type  \\\n",
              "0        0.000000                       Yes                     0   \n",
              "1        1.098612                        No                     0   \n",
              "2        0.000000                        No                     1   \n",
              "\n",
              "  Cart_Abandoned  \n",
              "0              1  \n",
              "1              1  \n",
              "2              0  "
            ],
            "text/html": [
              "\n",
              "  <div id=\"df-c8ace4bc-3e7a-470d-89be-99e3b806bb07\">\n",
              "    <div class=\"colab-df-container\">\n",
              "      <div>\n",
              "<style scoped>\n",
              "    .dataframe tbody tr th:only-of-type {\n",
              "        vertical-align: middle;\n",
              "    }\n",
              "\n",
              "    .dataframe tbody tr th {\n",
              "        vertical-align: top;\n",
              "    }\n",
              "\n",
              "    .dataframe thead th {\n",
              "        text-align: right;\n",
              "    }\n",
              "</style>\n",
              "<table border=\"1\" class=\"dataframe\">\n",
              "  <thead>\n",
              "    <tr style=\"text-align: right;\">\n",
              "      <th></th>\n",
              "      <th>ID</th>\n",
              "      <th>Session_Activity_Count</th>\n",
              "      <th>No_Items_Added_InCart</th>\n",
              "      <th>No_Items_Removed_FromCart</th>\n",
              "      <th>No_Cart_Viewed</th>\n",
              "      <th>No_Checkout_Confirmed</th>\n",
              "      <th>No_Checkout_Initiated</th>\n",
              "      <th>No_Cart_Items_Viewed</th>\n",
              "      <th>No_Customer_Login</th>\n",
              "      <th>No_Page_Viewed</th>\n",
              "      <th>Is_Product_Details_viewed</th>\n",
              "      <th>Customer_Segment_Type</th>\n",
              "      <th>Cart_Abandoned</th>\n",
              "    </tr>\n",
              "  </thead>\n",
              "  <tbody>\n",
              "    <tr>\n",
              "      <th>0</th>\n",
              "      <td>Session_ID_0</td>\n",
              "      <td>1.609438</td>\n",
              "      <td>0.693147</td>\n",
              "      <td>0.0</td>\n",
              "      <td>0.000000</td>\n",
              "      <td>0.000000</td>\n",
              "      <td>0.000000</td>\n",
              "      <td>0.693147</td>\n",
              "      <td>0.0</td>\n",
              "      <td>0.000000</td>\n",
              "      <td>Yes</td>\n",
              "      <td>0</td>\n",
              "      <td>1</td>\n",
              "    </tr>\n",
              "    <tr>\n",
              "      <th>1</th>\n",
              "      <td>Session_ID_1</td>\n",
              "      <td>3.663562</td>\n",
              "      <td>0.000000</td>\n",
              "      <td>0.0</td>\n",
              "      <td>1.098612</td>\n",
              "      <td>0.000000</td>\n",
              "      <td>0.000000</td>\n",
              "      <td>1.098612</td>\n",
              "      <td>0.0</td>\n",
              "      <td>1.098612</td>\n",
              "      <td>No</td>\n",
              "      <td>0</td>\n",
              "      <td>1</td>\n",
              "    </tr>\n",
              "    <tr>\n",
              "      <th>2</th>\n",
              "      <td>Session_ID_2</td>\n",
              "      <td>2.197225</td>\n",
              "      <td>1.791759</td>\n",
              "      <td>0.0</td>\n",
              "      <td>0.000000</td>\n",
              "      <td>0.693147</td>\n",
              "      <td>0.693147</td>\n",
              "      <td>0.693147</td>\n",
              "      <td>0.0</td>\n",
              "      <td>0.000000</td>\n",
              "      <td>No</td>\n",
              "      <td>1</td>\n",
              "      <td>0</td>\n",
              "    </tr>\n",
              "  </tbody>\n",
              "</table>\n",
              "</div>\n",
              "      <button class=\"colab-df-convert\" onclick=\"convertToInteractive('df-c8ace4bc-3e7a-470d-89be-99e3b806bb07')\"\n",
              "              title=\"Convert this dataframe to an interactive table.\"\n",
              "              style=\"display:none;\">\n",
              "        \n",
              "  <svg xmlns=\"http://www.w3.org/2000/svg\" height=\"24px\"viewBox=\"0 0 24 24\"\n",
              "       width=\"24px\">\n",
              "    <path d=\"M0 0h24v24H0V0z\" fill=\"none\"/>\n",
              "    <path d=\"M18.56 5.44l.94 2.06.94-2.06 2.06-.94-2.06-.94-.94-2.06-.94 2.06-2.06.94zm-11 1L8.5 8.5l.94-2.06 2.06-.94-2.06-.94L8.5 2.5l-.94 2.06-2.06.94zm10 10l.94 2.06.94-2.06 2.06-.94-2.06-.94-.94-2.06-.94 2.06-2.06.94z\"/><path d=\"M17.41 7.96l-1.37-1.37c-.4-.4-.92-.59-1.43-.59-.52 0-1.04.2-1.43.59L10.3 9.45l-7.72 7.72c-.78.78-.78 2.05 0 2.83L4 21.41c.39.39.9.59 1.41.59.51 0 1.02-.2 1.41-.59l7.78-7.78 2.81-2.81c.8-.78.8-2.07 0-2.86zM5.41 20L4 18.59l7.72-7.72 1.47 1.35L5.41 20z\"/>\n",
              "  </svg>\n",
              "      </button>\n",
              "      \n",
              "  <style>\n",
              "    .colab-df-container {\n",
              "      display:flex;\n",
              "      flex-wrap:wrap;\n",
              "      gap: 12px;\n",
              "    }\n",
              "\n",
              "    .colab-df-convert {\n",
              "      background-color: #E8F0FE;\n",
              "      border: none;\n",
              "      border-radius: 50%;\n",
              "      cursor: pointer;\n",
              "      display: none;\n",
              "      fill: #1967D2;\n",
              "      height: 32px;\n",
              "      padding: 0 0 0 0;\n",
              "      width: 32px;\n",
              "    }\n",
              "\n",
              "    .colab-df-convert:hover {\n",
              "      background-color: #E2EBFA;\n",
              "      box-shadow: 0px 1px 2px rgba(60, 64, 67, 0.3), 0px 1px 3px 1px rgba(60, 64, 67, 0.15);\n",
              "      fill: #174EA6;\n",
              "    }\n",
              "\n",
              "    [theme=dark] .colab-df-convert {\n",
              "      background-color: #3B4455;\n",
              "      fill: #D2E3FC;\n",
              "    }\n",
              "\n",
              "    [theme=dark] .colab-df-convert:hover {\n",
              "      background-color: #434B5C;\n",
              "      box-shadow: 0px 1px 3px 1px rgba(0, 0, 0, 0.15);\n",
              "      filter: drop-shadow(0px 1px 2px rgba(0, 0, 0, 0.3));\n",
              "      fill: #FFFFFF;\n",
              "    }\n",
              "  </style>\n",
              "\n",
              "      <script>\n",
              "        const buttonEl =\n",
              "          document.querySelector('#df-c8ace4bc-3e7a-470d-89be-99e3b806bb07 button.colab-df-convert');\n",
              "        buttonEl.style.display =\n",
              "          google.colab.kernel.accessAllowed ? 'block' : 'none';\n",
              "\n",
              "        async function convertToInteractive(key) {\n",
              "          const element = document.querySelector('#df-c8ace4bc-3e7a-470d-89be-99e3b806bb07');\n",
              "          const dataTable =\n",
              "            await google.colab.kernel.invokeFunction('convertToInteractive',\n",
              "                                                     [key], {});\n",
              "          if (!dataTable) return;\n",
              "\n",
              "          const docLinkHtml = 'Like what you see? Visit the ' +\n",
              "            '<a target=\"_blank\" href=https://colab.research.google.com/notebooks/data_table.ipynb>data table notebook</a>'\n",
              "            + ' to learn more about interactive tables.';\n",
              "          element.innerHTML = '';\n",
              "          dataTable['output_type'] = 'display_data';\n",
              "          await google.colab.output.renderOutput(dataTable, element);\n",
              "          const docLink = document.createElement('div');\n",
              "          docLink.innerHTML = docLinkHtml;\n",
              "          element.appendChild(docLink);\n",
              "        }\n",
              "      </script>\n",
              "    </div>\n",
              "  </div>\n",
              "  "
            ]
          },
          "metadata": {},
          "execution_count": 38
        }
      ]
    },
    {
      "cell_type": "code",
      "source": [
        "df_final.Is_Product_Details_viewed.replace({\"Yes\":1,\"No\":0},inplace=True)\n",
        "df_final.head(3)"
      ],
      "metadata": {
        "colab": {
          "base_uri": "https://localhost:8080/",
          "height": 207
        },
        "id": "cwxCGqtQvSLd",
        "outputId": "af32120c-004b-4c2c-a1ca-486da3d86f43"
      },
      "execution_count": 49,
      "outputs": [
        {
          "output_type": "execute_result",
          "data": {
            "text/plain": [
              "             ID  Session_Activity_Count  No_Items_Added_InCart  \\\n",
              "0  Session_ID_0                1.609438               0.693147   \n",
              "1  Session_ID_1                3.663562               0.000000   \n",
              "2  Session_ID_2                2.197225               1.791759   \n",
              "\n",
              "   No_Items_Removed_FromCart  No_Cart_Viewed  No_Checkout_Confirmed  \\\n",
              "0                        0.0        0.000000               0.000000   \n",
              "1                        0.0        1.098612               0.000000   \n",
              "2                        0.0        0.000000               0.693147   \n",
              "\n",
              "   No_Checkout_Initiated   No_Cart_Items_Viewed  No_Customer_Login  \\\n",
              "0                0.000000              0.693147                0.0   \n",
              "1                0.000000              1.098612                0.0   \n",
              "2                0.693147              0.693147                0.0   \n",
              "\n",
              "   No_Page_Viewed  Is_Product_Details_viewed Customer_Segment_Type  \\\n",
              "0        0.000000                          1                     0   \n",
              "1        1.098612                          0                     0   \n",
              "2        0.000000                          0                     1   \n",
              "\n",
              "  Cart_Abandoned  \n",
              "0              1  \n",
              "1              1  \n",
              "2              0  "
            ],
            "text/html": [
              "\n",
              "  <div id=\"df-af0b6488-1e86-4a5d-9b9b-6a964ce5db8b\">\n",
              "    <div class=\"colab-df-container\">\n",
              "      <div>\n",
              "<style scoped>\n",
              "    .dataframe tbody tr th:only-of-type {\n",
              "        vertical-align: middle;\n",
              "    }\n",
              "\n",
              "    .dataframe tbody tr th {\n",
              "        vertical-align: top;\n",
              "    }\n",
              "\n",
              "    .dataframe thead th {\n",
              "        text-align: right;\n",
              "    }\n",
              "</style>\n",
              "<table border=\"1\" class=\"dataframe\">\n",
              "  <thead>\n",
              "    <tr style=\"text-align: right;\">\n",
              "      <th></th>\n",
              "      <th>ID</th>\n",
              "      <th>Session_Activity_Count</th>\n",
              "      <th>No_Items_Added_InCart</th>\n",
              "      <th>No_Items_Removed_FromCart</th>\n",
              "      <th>No_Cart_Viewed</th>\n",
              "      <th>No_Checkout_Confirmed</th>\n",
              "      <th>No_Checkout_Initiated</th>\n",
              "      <th>No_Cart_Items_Viewed</th>\n",
              "      <th>No_Customer_Login</th>\n",
              "      <th>No_Page_Viewed</th>\n",
              "      <th>Is_Product_Details_viewed</th>\n",
              "      <th>Customer_Segment_Type</th>\n",
              "      <th>Cart_Abandoned</th>\n",
              "    </tr>\n",
              "  </thead>\n",
              "  <tbody>\n",
              "    <tr>\n",
              "      <th>0</th>\n",
              "      <td>Session_ID_0</td>\n",
              "      <td>1.609438</td>\n",
              "      <td>0.693147</td>\n",
              "      <td>0.0</td>\n",
              "      <td>0.000000</td>\n",
              "      <td>0.000000</td>\n",
              "      <td>0.000000</td>\n",
              "      <td>0.693147</td>\n",
              "      <td>0.0</td>\n",
              "      <td>0.000000</td>\n",
              "      <td>1</td>\n",
              "      <td>0</td>\n",
              "      <td>1</td>\n",
              "    </tr>\n",
              "    <tr>\n",
              "      <th>1</th>\n",
              "      <td>Session_ID_1</td>\n",
              "      <td>3.663562</td>\n",
              "      <td>0.000000</td>\n",
              "      <td>0.0</td>\n",
              "      <td>1.098612</td>\n",
              "      <td>0.000000</td>\n",
              "      <td>0.000000</td>\n",
              "      <td>1.098612</td>\n",
              "      <td>0.0</td>\n",
              "      <td>1.098612</td>\n",
              "      <td>0</td>\n",
              "      <td>0</td>\n",
              "      <td>1</td>\n",
              "    </tr>\n",
              "    <tr>\n",
              "      <th>2</th>\n",
              "      <td>Session_ID_2</td>\n",
              "      <td>2.197225</td>\n",
              "      <td>1.791759</td>\n",
              "      <td>0.0</td>\n",
              "      <td>0.000000</td>\n",
              "      <td>0.693147</td>\n",
              "      <td>0.693147</td>\n",
              "      <td>0.693147</td>\n",
              "      <td>0.0</td>\n",
              "      <td>0.000000</td>\n",
              "      <td>0</td>\n",
              "      <td>1</td>\n",
              "      <td>0</td>\n",
              "    </tr>\n",
              "  </tbody>\n",
              "</table>\n",
              "</div>\n",
              "      <button class=\"colab-df-convert\" onclick=\"convertToInteractive('df-af0b6488-1e86-4a5d-9b9b-6a964ce5db8b')\"\n",
              "              title=\"Convert this dataframe to an interactive table.\"\n",
              "              style=\"display:none;\">\n",
              "        \n",
              "  <svg xmlns=\"http://www.w3.org/2000/svg\" height=\"24px\"viewBox=\"0 0 24 24\"\n",
              "       width=\"24px\">\n",
              "    <path d=\"M0 0h24v24H0V0z\" fill=\"none\"/>\n",
              "    <path d=\"M18.56 5.44l.94 2.06.94-2.06 2.06-.94-2.06-.94-.94-2.06-.94 2.06-2.06.94zm-11 1L8.5 8.5l.94-2.06 2.06-.94-2.06-.94L8.5 2.5l-.94 2.06-2.06.94zm10 10l.94 2.06.94-2.06 2.06-.94-2.06-.94-.94-2.06-.94 2.06-2.06.94z\"/><path d=\"M17.41 7.96l-1.37-1.37c-.4-.4-.92-.59-1.43-.59-.52 0-1.04.2-1.43.59L10.3 9.45l-7.72 7.72c-.78.78-.78 2.05 0 2.83L4 21.41c.39.39.9.59 1.41.59.51 0 1.02-.2 1.41-.59l7.78-7.78 2.81-2.81c.8-.78.8-2.07 0-2.86zM5.41 20L4 18.59l7.72-7.72 1.47 1.35L5.41 20z\"/>\n",
              "  </svg>\n",
              "      </button>\n",
              "      \n",
              "  <style>\n",
              "    .colab-df-container {\n",
              "      display:flex;\n",
              "      flex-wrap:wrap;\n",
              "      gap: 12px;\n",
              "    }\n",
              "\n",
              "    .colab-df-convert {\n",
              "      background-color: #E8F0FE;\n",
              "      border: none;\n",
              "      border-radius: 50%;\n",
              "      cursor: pointer;\n",
              "      display: none;\n",
              "      fill: #1967D2;\n",
              "      height: 32px;\n",
              "      padding: 0 0 0 0;\n",
              "      width: 32px;\n",
              "    }\n",
              "\n",
              "    .colab-df-convert:hover {\n",
              "      background-color: #E2EBFA;\n",
              "      box-shadow: 0px 1px 2px rgba(60, 64, 67, 0.3), 0px 1px 3px 1px rgba(60, 64, 67, 0.15);\n",
              "      fill: #174EA6;\n",
              "    }\n",
              "\n",
              "    [theme=dark] .colab-df-convert {\n",
              "      background-color: #3B4455;\n",
              "      fill: #D2E3FC;\n",
              "    }\n",
              "\n",
              "    [theme=dark] .colab-df-convert:hover {\n",
              "      background-color: #434B5C;\n",
              "      box-shadow: 0px 1px 3px 1px rgba(0, 0, 0, 0.15);\n",
              "      filter: drop-shadow(0px 1px 2px rgba(0, 0, 0, 0.3));\n",
              "      fill: #FFFFFF;\n",
              "    }\n",
              "  </style>\n",
              "\n",
              "      <script>\n",
              "        const buttonEl =\n",
              "          document.querySelector('#df-af0b6488-1e86-4a5d-9b9b-6a964ce5db8b button.colab-df-convert');\n",
              "        buttonEl.style.display =\n",
              "          google.colab.kernel.accessAllowed ? 'block' : 'none';\n",
              "\n",
              "        async function convertToInteractive(key) {\n",
              "          const element = document.querySelector('#df-af0b6488-1e86-4a5d-9b9b-6a964ce5db8b');\n",
              "          const dataTable =\n",
              "            await google.colab.kernel.invokeFunction('convertToInteractive',\n",
              "                                                     [key], {});\n",
              "          if (!dataTable) return;\n",
              "\n",
              "          const docLinkHtml = 'Like what you see? Visit the ' +\n",
              "            '<a target=\"_blank\" href=https://colab.research.google.com/notebooks/data_table.ipynb>data table notebook</a>'\n",
              "            + ' to learn more about interactive tables.';\n",
              "          element.innerHTML = '';\n",
              "          dataTable['output_type'] = 'display_data';\n",
              "          await google.colab.output.renderOutput(dataTable, element);\n",
              "          const docLink = document.createElement('div');\n",
              "          docLink.innerHTML = docLinkHtml;\n",
              "          element.appendChild(docLink);\n",
              "        }\n",
              "      </script>\n",
              "    </div>\n",
              "  </div>\n",
              "  "
            ]
          },
          "metadata": {},
          "execution_count": 49
        }
      ]
    },
    {
      "cell_type": "code",
      "source": [
        "df_final.dtypes"
      ],
      "metadata": {
        "colab": {
          "base_uri": "https://localhost:8080/"
        },
        "id": "-uIydnausvDE",
        "outputId": "54e5722e-24a4-4ebc-d3ea-90a6a685eaf8"
      },
      "execution_count": 50,
      "outputs": [
        {
          "output_type": "execute_result",
          "data": {
            "text/plain": [
              "ID                             object\n",
              "Session_Activity_Count        float64\n",
              "No_Items_Added_InCart         float64\n",
              "No_Items_Removed_FromCart     float64\n",
              "No_Cart_Viewed                float64\n",
              "No_Checkout_Confirmed         float64\n",
              "No_Checkout_Initiated         float64\n",
              "No_Cart_Items_Viewed          float64\n",
              "No_Customer_Login             float64\n",
              "No_Page_Viewed                float64\n",
              "Is_Product_Details_viewed       int64\n",
              "Customer_Segment_Type        category\n",
              "Cart_Abandoned               category\n",
              "dtype: object"
            ]
          },
          "metadata": {},
          "execution_count": 50
        }
      ]
    },
    {
      "cell_type": "code",
      "source": [
        "df_final.Is_Product_Details_viewed=pd.Categorical(df_final.Is_Product_Details_viewed)"
      ],
      "metadata": {
        "id": "3TENUitYswZ_"
      },
      "execution_count": 51,
      "outputs": []
    },
    {
      "cell_type": "markdown",
      "source": [
        "* FEATURE SELECTION"
      ],
      "metadata": {
        "id": "3iETeEMos38m"
      }
    },
    {
      "cell_type": "markdown",
      "source": [
        "1. USING RECURSIVE FEATURE ELIMINATION"
      ],
      "metadata": {
        "id": "kx4R_uq6tcOf"
      }
    },
    {
      "cell_type": "code",
      "source": [
        "X=df_final.iloc[:,1:12]\n",
        "X.shape"
      ],
      "metadata": {
        "colab": {
          "base_uri": "https://localhost:8080/"
        },
        "id": "HyA206Hxszfc",
        "outputId": "6846e21c-e41a-43af-beec-4dbf08378e76"
      },
      "execution_count": 53,
      "outputs": [
        {
          "output_type": "execute_result",
          "data": {
            "text/plain": [
              "(4284, 11)"
            ]
          },
          "metadata": {},
          "execution_count": 53
        }
      ]
    },
    {
      "cell_type": "code",
      "source": [
        "y=df_final[\"Cart_Abandoned\"]\n",
        "y.name"
      ],
      "metadata": {
        "colab": {
          "base_uri": "https://localhost:8080/",
          "height": 35
        },
        "id": "lDC-dThStmAE",
        "outputId": "58af9ab3-b838-4020-fc51-d37f2b860383"
      },
      "execution_count": 54,
      "outputs": [
        {
          "output_type": "execute_result",
          "data": {
            "text/plain": [
              "'Cart_Abandoned'"
            ],
            "application/vnd.google.colaboratory.intrinsic+json": {
              "type": "string"
            }
          },
          "metadata": {},
          "execution_count": 54
        }
      ]
    },
    {
      "cell_type": "code",
      "source": [
        "lr = LogisticRegression()\n",
        "lr.fit(X,y)\n",
        "#stop the search when only the last feature is left\n",
        "rfe = RFE(lr, n_features_to_select=7, verbose = 3 )\n",
        "fit=rfe.fit(X,y)\n",
        "print(\"Num Features: %d\"% fit.n_features_) \n",
        "print(\"Selected Features: %s\"% fit.support_) \n",
        "print(\"Feature Ranking: %s\"% fit.ranking_)"
      ],
      "metadata": {
        "colab": {
          "base_uri": "https://localhost:8080/"
        },
        "id": "de84de_Yto6d",
        "outputId": "94f6bafa-12d5-4661-a852-3b1b7c1e14ee"
      },
      "execution_count": 55,
      "outputs": [
        {
          "output_type": "stream",
          "name": "stdout",
          "text": [
            "Fitting estimator with 11 features.\n",
            "Fitting estimator with 10 features.\n",
            "Fitting estimator with 9 features.\n",
            "Fitting estimator with 8 features.\n",
            "Num Features: 7\n",
            "Selected Features: [ True False False  True  True  True False  True  True  True False]\n",
            "Feature Ranking: [1 2 4 1 1 1 5 1 1 1 3]\n"
          ]
        }
      ]
    },
    {
      "cell_type": "code",
      "source": [
        "l = [i for i,x in enumerate(list(fit.support_)) if x == True]"
      ],
      "metadata": {
        "id": "ykn8-yKfvaaA"
      },
      "execution_count": 56,
      "outputs": []
    },
    {
      "cell_type": "code",
      "source": [
        "X.columns"
      ],
      "metadata": {
        "colab": {
          "base_uri": "https://localhost:8080/"
        },
        "id": "AzqrnKeevfJl",
        "outputId": "5b8c3492-f811-4671-869b-b43dfac78a36"
      },
      "execution_count": 57,
      "outputs": [
        {
          "output_type": "execute_result",
          "data": {
            "text/plain": [
              "Index(['Session_Activity_Count', 'No_Items_Added_InCart',\n",
              "       'No_Items_Removed_FromCart', 'No_Cart_Viewed', 'No_Checkout_Confirmed',\n",
              "       'No_Checkout_Initiated ', 'No_Cart_Items_Viewed', 'No_Customer_Login',\n",
              "       'No_Page_Viewed', 'Is_Product_Details_viewed', 'Customer_Segment_Type'],\n",
              "      dtype='object')"
            ]
          },
          "metadata": {},
          "execution_count": 57
        }
      ]
    },
    {
      "cell_type": "code",
      "source": [
        "feature_selected = [X[X.columns[l[i]]].name for i,x in enumerate(l)]"
      ],
      "metadata": {
        "id": "aYOFmsg6vkZT"
      },
      "execution_count": 58,
      "outputs": []
    },
    {
      "cell_type": "code",
      "source": [
        "#SELECTED FEATURES\n",
        "feature_selected"
      ],
      "metadata": {
        "colab": {
          "base_uri": "https://localhost:8080/"
        },
        "id": "ntazgcD2vp9S",
        "outputId": "d6cd0891-bff3-422f-80cd-91c8250605fe"
      },
      "execution_count": 59,
      "outputs": [
        {
          "output_type": "execute_result",
          "data": {
            "text/plain": [
              "['Session_Activity_Count',\n",
              " 'No_Cart_Viewed',\n",
              " 'No_Checkout_Confirmed',\n",
              " 'No_Checkout_Initiated ',\n",
              " 'No_Customer_Login',\n",
              " 'No_Page_Viewed',\n",
              " 'Is_Product_Details_viewed']"
            ]
          },
          "metadata": {},
          "execution_count": 59
        }
      ]
    },
    {
      "cell_type": "markdown",
      "source": [
        "2. USING RANDOM FOREST CLASSIFIER"
      ],
      "metadata": {
        "id": "jFdf0gtjv0bP"
      }
    },
    {
      "cell_type": "code",
      "source": [
        "# Create a random forest classifier\n",
        "clf = RandomForestClassifier(n_estimators=10000, random_state=0, n_jobs=-1)\n",
        "\n",
        "# Train the classifier\n",
        "clf.fit(X, y)\n",
        "feature_weightage_dict = dict()\n",
        "# Print the name and gini importance of each feature\n",
        "for feature in zip(X.columns, clf.feature_importances_):\n",
        "    feature_weightage_dict.update({feature[0]:feature[1]})"
      ],
      "metadata": {
        "id": "YJfaoJRevxG9"
      },
      "execution_count": 60,
      "outputs": []
    },
    {
      "cell_type": "code",
      "source": [
        "feature_weightage_dict"
      ],
      "metadata": {
        "colab": {
          "base_uri": "https://localhost:8080/"
        },
        "id": "aqklwSuhwC-d",
        "outputId": "69fa4760-2b2e-4ab7-f334-b50419a4386c"
      },
      "execution_count": 61,
      "outputs": [
        {
          "output_type": "execute_result",
          "data": {
            "text/plain": [
              "{'Session_Activity_Count': 0.05052857005529642,\n",
              " 'No_Items_Added_InCart': 0.025547984898027527,\n",
              " 'No_Items_Removed_FromCart': 0.010172300692196705,\n",
              " 'No_Cart_Viewed': 0.017810335296951977,\n",
              " 'No_Checkout_Confirmed': 0.7341868777064404,\n",
              " 'No_Checkout_Initiated ': 0.0441808380652188,\n",
              " 'No_Cart_Items_Viewed': 0.018703955749515146,\n",
              " 'No_Customer_Login': 0.05604221107820115,\n",
              " 'No_Page_Viewed': 0.027120211503535017,\n",
              " 'Is_Product_Details_viewed': 0.009764913736069736,\n",
              " 'Customer_Segment_Type': 0.0059418012185472185}"
            ]
          },
          "metadata": {},
          "execution_count": 61
        }
      ]
    },
    {
      "cell_type": "code",
      "source": [
        "sorted_feature_weightage_dict = sorted(feature_weightage_dict.items(), key=lambda kv: kv[1], reverse = True)"
      ],
      "metadata": {
        "id": "8TQssS3zwGF7"
      },
      "execution_count": 62,
      "outputs": []
    },
    {
      "cell_type": "code",
      "source": [
        "#FEATURES WEIGHTAGE IN DECREASING ORDER\n",
        "sorted_feature_weightage_dict"
      ],
      "metadata": {
        "colab": {
          "base_uri": "https://localhost:8080/"
        },
        "id": "sRqoX_fBwJPr",
        "outputId": "a26af018-8aba-49cd-997c-3f1fd1ddcf99"
      },
      "execution_count": 63,
      "outputs": [
        {
          "output_type": "execute_result",
          "data": {
            "text/plain": [
              "[('No_Checkout_Confirmed', 0.7341868777064404),\n",
              " ('No_Customer_Login', 0.05604221107820115),\n",
              " ('Session_Activity_Count', 0.05052857005529642),\n",
              " ('No_Checkout_Initiated ', 0.0441808380652188),\n",
              " ('No_Page_Viewed', 0.027120211503535017),\n",
              " ('No_Items_Added_InCart', 0.025547984898027527),\n",
              " ('No_Cart_Items_Viewed', 0.018703955749515146),\n",
              " ('No_Cart_Viewed', 0.017810335296951977),\n",
              " ('No_Items_Removed_FromCart', 0.010172300692196705),\n",
              " ('Is_Product_Details_viewed', 0.009764913736069736),\n",
              " ('Customer_Segment_Type', 0.0059418012185472185)]"
            ]
          },
          "metadata": {},
          "execution_count": 63
        }
      ]
    },
    {
      "cell_type": "code",
      "source": [
        "df_final.columns"
      ],
      "metadata": {
        "colab": {
          "base_uri": "https://localhost:8080/"
        },
        "id": "UEh5XTOswSo8",
        "outputId": "61c8ec45-a7bf-4d40-92e0-a09e60c054a4"
      },
      "execution_count": 64,
      "outputs": [
        {
          "output_type": "execute_result",
          "data": {
            "text/plain": [
              "Index(['ID', 'Session_Activity_Count', 'No_Items_Added_InCart',\n",
              "       'No_Items_Removed_FromCart', 'No_Cart_Viewed', 'No_Checkout_Confirmed',\n",
              "       'No_Checkout_Initiated ', 'No_Cart_Items_Viewed', 'No_Customer_Login',\n",
              "       'No_Page_Viewed', 'Is_Product_Details_viewed', 'Customer_Segment_Type',\n",
              "       'Cart_Abandoned'],\n",
              "      dtype='object')"
            ]
          },
          "metadata": {},
          "execution_count": 64
        }
      ]
    },
    {
      "cell_type": "markdown",
      "source": [
        "### From above two feature selection methods we can say No_Items_Added_InCart, No_Checkout_Confirmed, No_Checkout_Initiated, No_Customer_Login and No_Page_Viewed has higher importance features.So we consider that attributes only to train our model"
      ],
      "metadata": {
        "id": "Q6JI2JN3wdAv"
      }
    },
    {
      "cell_type": "markdown",
      "source": [
        "**TRAIN VALIDATION SPLIT**"
      ],
      "metadata": {
        "id": "PUJf912bxTHp"
      }
    },
    {
      "cell_type": "code",
      "source": [
        "X = df_final.iloc[:,[5,6,8,9,2]]\n",
        "y = df_final.loc[:,[\"Cart_Abandoned\"]]\n",
        "X_train, X_test, y_train, y_test = train_test_split(X, y, test_size=0.40, random_state=0)"
      ],
      "metadata": {
        "id": "NW5ygawsw4b4"
      },
      "execution_count": 65,
      "outputs": []
    },
    {
      "cell_type": "markdown",
      "source": [
        "**OVERSAMPLING USING SMOTE**"
      ],
      "metadata": {
        "id": "CybaJy06xcTN"
      }
    },
    {
      "cell_type": "code",
      "source": [
        "sm = SMOTE(random_state=2,k_neighbors=5)\n",
        "X_train, y_train =sm.fit_resample(X_train,y_train)"
      ],
      "metadata": {
        "id": "ySc9rt83xaWD"
      },
      "execution_count": 68,
      "outputs": []
    },
    {
      "cell_type": "markdown",
      "source": [
        "**TRAIN-TEST SPLIT AFTER SMOTE**"
      ],
      "metadata": {
        "id": "Iel_TXh8yEHZ"
      }
    },
    {
      "cell_type": "code",
      "source": [
        "X_train_new, X_test_new, y_train_new, y_test_new = train_test_split(X_train, y_train, test_size=0.40, random_state=0)"
      ],
      "metadata": {
        "id": "pGowKVOBx_z0"
      },
      "execution_count": 69,
      "outputs": []
    },
    {
      "cell_type": "markdown",
      "source": [
        "## **MODEL BUILDING AND PREDICTION**"
      ],
      "metadata": {
        "id": "oWYNDHwNyOFE"
      }
    },
    {
      "cell_type": "code",
      "source": [
        "lr1 = LogisticRegression()\n",
        "lr1.fit(X_train_new,y_train_new)\n",
        "\n",
        "y_pred_new = lr1.predict(X_test_new) # For SMOTE validation samples\n",
        "y_pred=lr1.predict(X_test)           # For actual validation samples"
      ],
      "metadata": {
        "colab": {
          "base_uri": "https://localhost:8080/"
        },
        "id": "pGTJEEU2yMdt",
        "outputId": "e5e3aaa6-e946-41a6-a027-5f9e875d7e29"
      },
      "execution_count": 71,
      "outputs": [
        {
          "output_type": "stream",
          "name": "stderr",
          "text": [
            "/usr/local/lib/python3.8/dist-packages/sklearn/utils/validation.py:993: DataConversionWarning: A column-vector y was passed when a 1d array was expected. Please change the shape of y to (n_samples, ), for example using ravel().\n",
            "  y = column_or_1d(y, warn=True)\n"
          ]
        }
      ]
    },
    {
      "cell_type": "markdown",
      "source": [
        "## **EVALUATION USING PERMORMANCE MEASURES**"
      ],
      "metadata": {
        "id": "T6bArcCuykf5"
      }
    },
    {
      "cell_type": "markdown",
      "source": [
        "**Evaluation of train-test split before SMOTE**"
      ],
      "metadata": {
        "id": "nGh8SSyRy-Zx"
      }
    },
    {
      "cell_type": "code",
      "source": [
        "print(\" accuracy is %2.3f\" % accuracy_score(y_test, y_pred))\n",
        "print(\" Kappa is %f\" %cohen_kappa_score(y_test, y_pred))"
      ],
      "metadata": {
        "colab": {
          "base_uri": "https://localhost:8080/"
        },
        "id": "TRlV1jlczUZb",
        "outputId": "68580f91-a3de-48bd-b5bb-1650f63c6167"
      },
      "execution_count": 73,
      "outputs": [
        {
          "output_type": "stream",
          "name": "stdout",
          "text": [
            " accuracy is 0.984\n",
            " Kappa is 0.936154\n"
          ]
        }
      ]
    },
    {
      "cell_type": "markdown",
      "source": [
        "**Evaluation of train-test split after SMOTE**"
      ],
      "metadata": {
        "id": "od87nxB6zK7V"
      }
    },
    {
      "cell_type": "code",
      "source": [
        "print(\" accuracy is %2.3f\" % accuracy_score(y_test_new, y_pred_new))\n",
        "print(\" Kappa is %f\" %cohen_kappa_score(y_test_new, y_pred_new))"
      ],
      "metadata": {
        "colab": {
          "base_uri": "https://localhost:8080/"
        },
        "id": "sBJC8p27yi_Y",
        "outputId": "22e5c44b-300b-44b1-d9d8-34a6b77c48a0"
      },
      "execution_count": 72,
      "outputs": [
        {
          "output_type": "stream",
          "name": "stdout",
          "text": [
            " accuracy is 0.988\n",
            " Kappa is 0.976122\n"
          ]
        }
      ]
    },
    {
      "cell_type": "markdown",
      "source": [
        "## **CONCLUSION**"
      ],
      "metadata": {
        "id": "2Ub_3sW5zx0-"
      }
    },
    {
      "cell_type": "markdown",
      "source": [
        "### By using this analysis we can predict whether a customer will do abandonment or not in the future. So that we can able to give them some offers so that they able to complete the checkout successfully."
      ],
      "metadata": {
        "id": "kyN-F-rAz5t4"
      }
    }
  ]
}